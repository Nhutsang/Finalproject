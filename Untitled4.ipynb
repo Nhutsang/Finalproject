{
  "nbformat": 4,
  "nbformat_minor": 0,
  "metadata": {
    "colab": {
      "provenance": [],
      "gpuType": "T4",
      "authorship_tag": "ABX9TyNmj+OTJcFWDdM7s1BWvMRU",
      "include_colab_link": true
    },
    "kernelspec": {
      "name": "python3",
      "display_name": "Python 3"
    },
    "language_info": {
      "name": "python"
    },
    "accelerator": "GPU",
    "gpuClass": "standard"
  },
  "cells": [
    {
      "cell_type": "markdown",
      "metadata": {
        "id": "view-in-github",
        "colab_type": "text"
      },
      "source": [
        "<a href=\"https://colab.research.google.com/github/Nhutsang/Finalproject/blob/main/Untitled4.ipynb\" target=\"_parent\"><img src=\"https://colab.research.google.com/assets/colab-badge.svg\" alt=\"Open In Colab\"/></a>"
      ]
    },
    {
      "cell_type": "code",
      "execution_count": 33,
      "metadata": {
        "colab": {
          "base_uri": "https://localhost:8080/"
        },
        "id": "qz_smjdz0yxw",
        "outputId": "90132264-24db-4045-f2a2-8c05ce3db467"
      },
      "outputs": [
        {
          "output_type": "stream",
          "name": "stdout",
          "text": [
            "Drive already mounted at /content/drive; to attempt to forcibly remount, call drive.mount(\"/content/drive\", force_remount=True).\n"
          ]
        }
      ],
      "source": [
        "from google.colab import drive\n",
        "drive.mount('/content/drive')"
      ]
    },
    {
      "cell_type": "code",
      "source": [
        "import numpy as np\n",
        "import matplotlib.pyplot as plt\n",
        "from os import listdir\n",
        "from numpy import asarray,save\n",
        "from sklearn.model_selection import train_test_split\n",
        "from time import time\n",
        "from keras.utils import load_img, img_to_array\n",
        "from keras.utils  import to_categorical\n",
        "from keras.models import Sequential, Model\n",
        "from keras.layers import *\n",
        "from keras.layers import LeakyReLU\n",
        "from keras.optimizers import Adam\n",
        "from keras.engine.training import optimizers\n",
        "from keras.backend import categorical_crossentropy"
      ],
      "metadata": {
        "id": "kVj6jYB201iq"
      },
      "execution_count": 34,
      "outputs": []
    },
    {
      "cell_type": "code",
      "source": [
        "import os\n",
        "import cv2\n",
        "import numpy as np\n",
        "\n",
        "data_folder = '/content/drive/MyDrive/data/datatrain/'\n",
        "categories = ['Trouser', 'Sandal', 'Glasses', 'Watch', 'Sneaker']\n",
        "\n",
        "X = []\n",
        "y = []\n",
        "\n",
        "# Đọc và chuyển đổi ảnh thành ma trận numpy\n",
        "for category in categories:\n",
        "    category_dir = os.path.join(data_folder, category)\n",
        "    for image_file in os.listdir(category_dir):\n",
        "        image_path = os.path.join(category_dir, image_file)\n",
        "        image = cv2.imread(image_path)\n",
        "        image = cv2.resize(image, (100, 100))\n",
        "        image = cv2.cvtColor(image, cv2.COLOR_BGR2RGB)\n",
        "        X.append(image)\n",
        "        y.append(categories.index(category))\n",
        "\n",
        "# Chuyển đổi danh sách thành mảng numpy\n",
        "X = np.array(X)\n",
        "y = np.array(y)\n",
        "\n",
        "# In thông tin của X_train và y_train\n",
        "print('Kích thước X_train:', X.shape)\n",
        "print('kich thuoc y:', y.shape)\n"
      ],
      "metadata": {
        "colab": {
          "base_uri": "https://localhost:8080/"
        },
        "id": "ZTN3fVEi1HhD",
        "outputId": "5ec3252c-2a58-47f9-a45d-745efd716584"
      },
      "execution_count": 204,
      "outputs": [
        {
          "output_type": "stream",
          "name": "stdout",
          "text": [
            "Kích thước X_train: (750, 100, 100, 3)\n",
            "kich thuoc y: (750,)\n"
          ]
        }
      ]
    },
    {
      "cell_type": "code",
      "source": [
        "X_train_val, X_test , y_train_val , y_test = train_test_split(X, y , test_size = 0.1)\n",
        "X_train , X_val , y_train , y_val = train_test_split(X_train_val, y_train_val, test_size = 0.2)\n",
        "     "
      ],
      "metadata": {
        "id": "zmEjke_w3egE"
      },
      "execution_count": 205,
      "outputs": []
    },
    {
      "cell_type": "code",
      "source": [
        "\n",
        "print('Kích thước X_train:', X_train.shape)\n",
        "print('kich thuoc y_train:', y_train.shape)\n",
        "\n",
        "print('Kích thước X_val:', X_val.shape)\n",
        "print('kich thuoc y_val:', y_val.shape)\n",
        "\n",
        "print('Kích thước X_test:', X_test.shape)\n",
        "print('kich thuoc y_test:', y_test.shape)"
      ],
      "metadata": {
        "colab": {
          "base_uri": "https://localhost:8080/"
        },
        "id": "6fkE0uUz3oBR",
        "outputId": "4bbc811e-4d9f-464a-bc5e-586e4625a95a"
      },
      "execution_count": 206,
      "outputs": [
        {
          "output_type": "stream",
          "name": "stdout",
          "text": [
            "Kích thước X_train: (540, 100, 100, 3)\n",
            "kich thuoc y_train: (540,)\n",
            "Kích thước X_val: (135, 100, 100, 3)\n",
            "kich thuoc y_val: (135,)\n",
            "Kích thước X_test: (75, 100, 100, 3)\n",
            "kich thuoc y_test: (75,)\n"
          ]
        }
      ]
    },
    {
      "cell_type": "code",
      "source": [
        " #one hot enccoding giatri mau tung diem anh tu thap phan duoi dang 10 bit\n",
        "trainY = to_categorical (y_train)\n",
        "testY=to_categorical(y_test)\n",
        "valY=to_categorical(y_val)\n",
        "\n",
        "print(trainY.shape)\n",
        "print(testY.shape)\n",
        "print(valY.shape)"
      ],
      "metadata": {
        "colab": {
          "base_uri": "https://localhost:8080/"
        },
        "id": "_PVvuXS_3yzG",
        "outputId": "631609ea-a737-4449-c62a-7dfe7cf74b86"
      },
      "execution_count": 207,
      "outputs": [
        {
          "output_type": "stream",
          "name": "stdout",
          "text": [
            "(540, 5)\n",
            "(75, 5)\n",
            "(135, 5)\n"
          ]
        }
      ]
    },
    {
      "cell_type": "code",
      "source": [
        "batch_size = 32\n",
        "epochs = 50\n",
        "classes = 5\n",
        "img_size = 100 \n",
        "#Tạo 1 mạng có 28x28 input và 10 output\n",
        "model = Sequential()\n",
        "\n",
        "# 1 bộ VGG\n",
        "model.add(Conv2D(32, kernel_size=(3,3), activation = 'tanh', input_shape=(img_size,img_size,3),padding = 'same'))\n",
        "model.add(LeakyReLU(alpha=0.1))  # Hàm xử lý dữ liệu (Ngưỡng)\n",
        "model.add(MaxPooling2D((2,2), padding='same'))\n",
        "\n",
        "\n",
        "# Bộ 2 VGG\n",
        "model.add(Conv2D(64,(3,3) , activation = 'tanh' , padding = 'same'))\n",
        "model.add(LeakyReLU(alpha = 0.1)) # Hàm xử lý dữ liệu (Ngưỡng)\n",
        "model.add(MaxPooling2D((2,2), padding = 'same'))\n",
        "\n",
        "# Bộ 3 VGG\n",
        "model.add(Conv2D(128,(3,3) , activation = 'tanh' , padding = 'same'))\n",
        "model.add(LeakyReLU(alpha = 0.1)) # Hàm xử lý dữ liệu (Ngưỡng)\n",
        "model.add(MaxPooling2D((2,2), padding = 'same'))\n",
        "\n",
        "\n",
        "\n",
        "\n",
        "# ANN Model\n",
        "model.add(Flatten()) # Lấy kích thước trước rồi làm phẳng\n",
        "model.add(Dense(128, activation = 'tanh'))\n",
        "model.add(LeakyReLU(alpha = 0.1))\n",
        "model.add(Dense(classes , activation = 'softmax'))     \n",
        "\n",
        "\n",
        "\n",
        "model.compile(loss = categorical_crossentropy, optimizer = Adam() , metrics=['accuracy'])\n",
        "model.summary()"
      ],
      "metadata": {
        "colab": {
          "base_uri": "https://localhost:8080/"
        },
        "id": "mgr9SzSg4K0Z",
        "outputId": "410d3387-bf09-4a87-9c18-8c37bc83d895"
      },
      "execution_count": 208,
      "outputs": [
        {
          "output_type": "stream",
          "name": "stdout",
          "text": [
            "Model: \"sequential_13\"\n",
            "_________________________________________________________________\n",
            " Layer (type)                Output Shape              Param #   \n",
            "=================================================================\n",
            " conv2d_39 (Conv2D)          (None, 100, 100, 32)      896       \n",
            "                                                                 \n",
            " leaky_re_lu_52 (LeakyReLU)  (None, 100, 100, 32)      0         \n",
            "                                                                 \n",
            " max_pooling2d_39 (MaxPoolin  (None, 50, 50, 32)       0         \n",
            " g2D)                                                            \n",
            "                                                                 \n",
            " conv2d_40 (Conv2D)          (None, 50, 50, 64)        18496     \n",
            "                                                                 \n",
            " leaky_re_lu_53 (LeakyReLU)  (None, 50, 50, 64)        0         \n",
            "                                                                 \n",
            " max_pooling2d_40 (MaxPoolin  (None, 25, 25, 64)       0         \n",
            " g2D)                                                            \n",
            "                                                                 \n",
            " conv2d_41 (Conv2D)          (None, 25, 25, 128)       73856     \n",
            "                                                                 \n",
            " leaky_re_lu_54 (LeakyReLU)  (None, 25, 25, 128)       0         \n",
            "                                                                 \n",
            " max_pooling2d_41 (MaxPoolin  (None, 13, 13, 128)      0         \n",
            " g2D)                                                            \n",
            "                                                                 \n",
            " flatten_13 (Flatten)        (None, 21632)             0         \n",
            "                                                                 \n",
            " dense_25 (Dense)            (None, 128)               2769024   \n",
            "                                                                 \n",
            " leaky_re_lu_55 (LeakyReLU)  (None, 128)               0         \n",
            "                                                                 \n",
            " dense_26 (Dense)            (None, 5)                 645       \n",
            "                                                                 \n",
            "=================================================================\n",
            "Total params: 2,862,917\n",
            "Trainable params: 2,862,917\n",
            "Non-trainable params: 0\n",
            "_________________________________________________________________\n"
          ]
        }
      ]
    },
    {
      "cell_type": "code",
      "source": [
        "start = time()\n",
        "train = model.fit(X_train, trainY, batch_size,epochs=50,verbose = 1, validation_data=(X_val, valY))\n",
        "#print(time()-start)"
      ],
      "metadata": {
        "colab": {
          "base_uri": "https://localhost:8080/"
        },
        "id": "bt4XzexG4N13",
        "outputId": "a045a6e7-6b4b-48b8-cd88-3e3e3813e415"
      },
      "execution_count": 209,
      "outputs": [
        {
          "output_type": "stream",
          "name": "stdout",
          "text": [
            "Epoch 1/50\n",
            "17/17 [==============================] - 17s 916ms/step - loss: 1.7534 - accuracy: 0.3333 - val_loss: 1.3418 - val_accuracy: 0.4519\n",
            "Epoch 2/50\n",
            "17/17 [==============================] - 15s 884ms/step - loss: 0.8026 - accuracy: 0.7130 - val_loss: 0.7997 - val_accuracy: 0.5926\n",
            "Epoch 3/50\n",
            "17/17 [==============================] - 15s 867ms/step - loss: 0.6247 - accuracy: 0.7778 - val_loss: 0.6072 - val_accuracy: 0.7852\n",
            "Epoch 4/50\n",
            "17/17 [==============================] - 15s 885ms/step - loss: 0.5421 - accuracy: 0.8130 - val_loss: 0.6622 - val_accuracy: 0.7259\n",
            "Epoch 5/50\n",
            "17/17 [==============================] - 15s 898ms/step - loss: 0.4522 - accuracy: 0.8481 - val_loss: 0.5126 - val_accuracy: 0.7778\n",
            "Epoch 6/50\n",
            "17/17 [==============================] - 15s 892ms/step - loss: 0.3569 - accuracy: 0.8778 - val_loss: 0.4936 - val_accuracy: 0.8000\n",
            "Epoch 7/50\n",
            "17/17 [==============================] - 14s 860ms/step - loss: 0.3125 - accuracy: 0.9019 - val_loss: 0.4793 - val_accuracy: 0.8148\n",
            "Epoch 8/50\n",
            "17/17 [==============================] - 17s 1s/step - loss: 0.2843 - accuracy: 0.9130 - val_loss: 0.4338 - val_accuracy: 0.8222\n",
            "Epoch 9/50\n",
            "17/17 [==============================] - 15s 889ms/step - loss: 0.2246 - accuracy: 0.9352 - val_loss: 0.3911 - val_accuracy: 0.8741\n",
            "Epoch 10/50\n",
            "17/17 [==============================] - 15s 886ms/step - loss: 0.1882 - accuracy: 0.9556 - val_loss: 0.4410 - val_accuracy: 0.8296\n",
            "Epoch 11/50\n",
            "17/17 [==============================] - 15s 890ms/step - loss: 0.1294 - accuracy: 0.9667 - val_loss: 0.3827 - val_accuracy: 0.8370\n",
            "Epoch 12/50\n",
            "17/17 [==============================] - 15s 883ms/step - loss: 0.0946 - accuracy: 0.9852 - val_loss: 0.4084 - val_accuracy: 0.8370\n",
            "Epoch 13/50\n",
            "17/17 [==============================] - 15s 896ms/step - loss: 0.0679 - accuracy: 0.9944 - val_loss: 0.4565 - val_accuracy: 0.8222\n",
            "Epoch 14/50\n",
            "17/17 [==============================] - 15s 886ms/step - loss: 0.0532 - accuracy: 0.9981 - val_loss: 0.4697 - val_accuracy: 0.8370\n",
            "Epoch 15/50\n",
            "17/17 [==============================] - 14s 853ms/step - loss: 0.0426 - accuracy: 0.9944 - val_loss: 0.3869 - val_accuracy: 0.8667\n",
            "Epoch 16/50\n",
            "17/17 [==============================] - 15s 877ms/step - loss: 0.0393 - accuracy: 0.9963 - val_loss: 0.5097 - val_accuracy: 0.8296\n",
            "Epoch 17/50\n",
            "17/17 [==============================] - 14s 850ms/step - loss: 0.0352 - accuracy: 0.9963 - val_loss: 0.4353 - val_accuracy: 0.8519\n",
            "Epoch 18/50\n",
            "17/17 [==============================] - 15s 882ms/step - loss: 0.0223 - accuracy: 1.0000 - val_loss: 0.4330 - val_accuracy: 0.8667\n",
            "Epoch 19/50\n",
            "17/17 [==============================] - 15s 880ms/step - loss: 0.0166 - accuracy: 1.0000 - val_loss: 0.4507 - val_accuracy: 0.8593\n",
            "Epoch 20/50\n",
            "17/17 [==============================] - 15s 875ms/step - loss: 0.0136 - accuracy: 1.0000 - val_loss: 0.4606 - val_accuracy: 0.8667\n",
            "Epoch 21/50\n",
            "17/17 [==============================] - 15s 878ms/step - loss: 0.0116 - accuracy: 1.0000 - val_loss: 0.4570 - val_accuracy: 0.8593\n",
            "Epoch 22/50\n",
            "17/17 [==============================] - 14s 851ms/step - loss: 0.0101 - accuracy: 1.0000 - val_loss: 0.4715 - val_accuracy: 0.8741\n",
            "Epoch 23/50\n",
            "17/17 [==============================] - 14s 855ms/step - loss: 0.0089 - accuracy: 1.0000 - val_loss: 0.4789 - val_accuracy: 0.8667\n",
            "Epoch 24/50\n",
            "17/17 [==============================] - 18s 1s/step - loss: 0.0082 - accuracy: 1.0000 - val_loss: 0.4765 - val_accuracy: 0.8667\n",
            "Epoch 25/50\n",
            "17/17 [==============================] - 14s 842ms/step - loss: 0.0073 - accuracy: 1.0000 - val_loss: 0.4793 - val_accuracy: 0.8667\n",
            "Epoch 26/50\n",
            "17/17 [==============================] - 15s 878ms/step - loss: 0.0065 - accuracy: 1.0000 - val_loss: 0.4790 - val_accuracy: 0.8667\n",
            "Epoch 27/50\n",
            "17/17 [==============================] - 14s 848ms/step - loss: 0.0059 - accuracy: 1.0000 - val_loss: 0.4781 - val_accuracy: 0.8741\n",
            "Epoch 28/50\n",
            "17/17 [==============================] - 15s 922ms/step - loss: 0.0054 - accuracy: 1.0000 - val_loss: 0.4901 - val_accuracy: 0.8667\n",
            "Epoch 29/50\n",
            "17/17 [==============================] - 15s 881ms/step - loss: 0.0049 - accuracy: 1.0000 - val_loss: 0.4928 - val_accuracy: 0.8667\n",
            "Epoch 30/50\n",
            "17/17 [==============================] - 15s 881ms/step - loss: 0.0046 - accuracy: 1.0000 - val_loss: 0.4993 - val_accuracy: 0.8667\n",
            "Epoch 31/50\n",
            "17/17 [==============================] - 15s 881ms/step - loss: 0.0043 - accuracy: 1.0000 - val_loss: 0.4972 - val_accuracy: 0.8667\n",
            "Epoch 32/50\n",
            "17/17 [==============================] - 14s 851ms/step - loss: 0.0040 - accuracy: 1.0000 - val_loss: 0.5046 - val_accuracy: 0.8667\n",
            "Epoch 33/50\n",
            "17/17 [==============================] - 15s 869ms/step - loss: 0.0038 - accuracy: 1.0000 - val_loss: 0.4987 - val_accuracy: 0.8667\n",
            "Epoch 34/50\n",
            "17/17 [==============================] - 15s 876ms/step - loss: 0.0035 - accuracy: 1.0000 - val_loss: 0.5103 - val_accuracy: 0.8667\n",
            "Epoch 35/50\n",
            "17/17 [==============================] - 15s 881ms/step - loss: 0.0034 - accuracy: 1.0000 - val_loss: 0.5082 - val_accuracy: 0.8667\n",
            "Epoch 36/50\n",
            "17/17 [==============================] - 15s 876ms/step - loss: 0.0032 - accuracy: 1.0000 - val_loss: 0.5041 - val_accuracy: 0.8667\n",
            "Epoch 37/50\n",
            "17/17 [==============================] - 15s 874ms/step - loss: 0.0030 - accuracy: 1.0000 - val_loss: 0.5149 - val_accuracy: 0.8667\n",
            "Epoch 38/50\n",
            "17/17 [==============================] - 15s 874ms/step - loss: 0.0028 - accuracy: 1.0000 - val_loss: 0.5102 - val_accuracy: 0.8667\n",
            "Epoch 39/50\n",
            "17/17 [==============================] - 15s 874ms/step - loss: 0.0027 - accuracy: 1.0000 - val_loss: 0.5113 - val_accuracy: 0.8741\n",
            "Epoch 40/50\n",
            "17/17 [==============================] - 15s 872ms/step - loss: 0.0025 - accuracy: 1.0000 - val_loss: 0.5076 - val_accuracy: 0.8667\n",
            "Epoch 41/50\n",
            "17/17 [==============================] - 16s 926ms/step - loss: 0.0024 - accuracy: 1.0000 - val_loss: 0.5122 - val_accuracy: 0.8741\n",
            "Epoch 42/50\n",
            "17/17 [==============================] - 15s 871ms/step - loss: 0.0023 - accuracy: 1.0000 - val_loss: 0.5173 - val_accuracy: 0.8741\n",
            "Epoch 43/50\n",
            "17/17 [==============================] - 15s 878ms/step - loss: 0.0022 - accuracy: 1.0000 - val_loss: 0.5179 - val_accuracy: 0.8741\n",
            "Epoch 44/50\n",
            "17/17 [==============================] - 15s 877ms/step - loss: 0.0021 - accuracy: 1.0000 - val_loss: 0.5143 - val_accuracy: 0.8667\n",
            "Epoch 45/50\n",
            "17/17 [==============================] - 15s 875ms/step - loss: 0.0020 - accuracy: 1.0000 - val_loss: 0.5171 - val_accuracy: 0.8667\n",
            "Epoch 46/50\n",
            "17/17 [==============================] - 14s 853ms/step - loss: 0.0019 - accuracy: 1.0000 - val_loss: 0.5177 - val_accuracy: 0.8667\n",
            "Epoch 47/50\n",
            "17/17 [==============================] - 15s 876ms/step - loss: 0.0019 - accuracy: 1.0000 - val_loss: 0.5202 - val_accuracy: 0.8741\n",
            "Epoch 48/50\n",
            "17/17 [==============================] - 15s 872ms/step - loss: 0.0018 - accuracy: 1.0000 - val_loss: 0.5259 - val_accuracy: 0.8667\n",
            "Epoch 49/50\n",
            "17/17 [==============================] - 15s 874ms/step - loss: 0.0017 - accuracy: 1.0000 - val_loss: 0.5301 - val_accuracy: 0.8667\n",
            "Epoch 50/50\n",
            "17/17 [==============================] - 15s 892ms/step - loss: 0.0017 - accuracy: 1.0000 - val_loss: 0.5262 - val_accuracy: 0.8667\n"
          ]
        }
      ]
    },
    {
      "cell_type": "code",
      "source": [
        "# Lấy một hình ảnh từ tập test\n",
        "id = 0\n",
        "image = X_test[id]\n",
        "label = y_test[id]\n",
        "classname= {0:'Trouser', 1:'Sandal', 2:'Glasses',3:'Watch', 4:'Sneaker'} \n",
        "\n",
        "# Đưa hình ảnh về đúng kích thước và định dạng phù hợp\n",
        "image = np.expand_dims(image , axis=0)\n",
        "\n",
        "# Dự đoán nhãn của hình ảnh sử dụng mô hình\n",
        "predictions = model.predict(image)\n",
        "\n",
        "# Chuyển đổi dự đoán thành nhãn tương ứng dựa trên xác suất lớn nhất\n",
        "predicted_label = np.argmax(predictions)\n",
        "\n",
        "# In kết quả dự đoán\n",
        "print('True Label:', classname[label])\n",
        "print('Predicted Label:', classname[predicted_label])\n",
        "plt.imshow(X_test[id])\n"
      ],
      "metadata": {
        "colab": {
          "base_uri": "https://localhost:8080/",
          "height": 502
        },
        "id": "mkSYAPjwHUjG",
        "outputId": "5c206fcb-ce4f-49eb-9e41-53e0c12e36f9"
      },
      "execution_count": 210,
      "outputs": [
        {
          "output_type": "stream",
          "name": "stdout",
          "text": [
            "1/1 [==============================] - 0s 91ms/step\n",
            "True Label: Sandal\n",
            "Predicted Label: Sandal\n"
          ]
        },
        {
          "output_type": "execute_result",
          "data": {
            "text/plain": [
              "<matplotlib.image.AxesImage at 0x7fab1e548070>"
            ]
          },
          "metadata": {},
          "execution_count": 210
        },
        {
          "output_type": "display_data",
          "data": {
            "text/plain": [
              "<Figure size 640x480 with 1 Axes>"
            ],
            "image/png": "[encoded data removed]"
          },
          "metadata": {}
        }
      ]
    },
    {
      "cell_type": "code",
      "source": [
        "import random\n",
        "correct_predictions = 0\n",
        "total_predictions = 0\n",
        "\n",
        "for i in range(0,75):\n",
        "  img = X_test[i]\n",
        "  # Đưa hình ảnh về đúng kích thước và định dạng phù hợp\n",
        "  image = np.expand_dims(img , axis=0)  \n",
        "  \n",
        "  # Dự đoán nhãn của hình ảnh sử dụng mô hình\n",
        "  predictions = model.predict(image)\n",
        "  # Chuyển đổi dự đoán thành nhãn tương ứng dựa trên xác suất cao nhất\n",
        "  predicted_label = np.argmax(predictions)\n",
        "\n",
        "  # Kiểm tra xem dự đoán có đúng hay không\n",
        "  truelabel = y_test[i]\n",
        "  if predicted_label == truelabel:\n",
        "    correct_predictions += 1\n",
        "\n",
        "accuracy = (correct_predictions/75)*100\n",
        "print(\"Accuracy:\", accuracy , \"%\")\n",
        "\n"
      ],
      "metadata": {
        "colab": {
          "base_uri": "https://localhost:8080/"
        },
        "id": "O-lySWuWMfDX",
        "outputId": "d701c725-8619-47f1-959b-a3a6b1e333ea"
      },
      "execution_count": 211,
      "outputs": [
        {
          "output_type": "stream",
          "name": "stdout",
          "text": [
            "1/1 [==============================] - 0s 29ms/step\n",
            "1/1 [==============================] - 0s 28ms/step\n",
            "1/1 [==============================] - 0s 29ms/step\n",
            "1/1 [==============================] - 0s 37ms/step\n",
            "1/1 [==============================] - 0s 29ms/step\n",
            "1/1 [==============================] - 0s 33ms/step\n",
            "1/1 [==============================] - 0s 28ms/step\n",
            "1/1 [==============================] - 0s 30ms/step\n",
            "1/1 [==============================] - 0s 27ms/step\n",
            "1/1 [==============================] - 0s 28ms/step\n",
            "1/1 [==============================] - 0s 28ms/step\n",
            "1/1 [==============================] - 0s 28ms/step\n",
            "1/1 [==============================] - 0s 30ms/step\n",
            "1/1 [==============================] - 0s 31ms/step\n",
            "1/1 [==============================] - 0s 30ms/step\n",
            "1/1 [==============================] - 0s 34ms/step\n",
            "1/1 [==============================] - 0s 29ms/step\n",
            "1/1 [==============================] - 0s 32ms/step\n",
            "1/1 [==============================] - 0s 30ms/step\n",
            "1/1 [==============================] - 0s 31ms/step\n",
            "1/1 [==============================] - 0s 28ms/step\n",
            "1/1 [==============================] - 0s 30ms/step\n",
            "1/1 [==============================] - 0s 30ms/step\n",
            "1/1 [==============================] - 0s 29ms/step\n",
            "1/1 [==============================] - 0s 28ms/step\n",
            "1/1 [==============================] - 0s 27ms/step\n",
            "1/1 [==============================] - 0s 28ms/step\n",
            "1/1 [==============================] - 0s 33ms/step\n",
            "1/1 [==============================] - 0s 31ms/step\n",
            "1/1 [==============================] - 0s 28ms/step\n",
            "1/1 [==============================] - 0s 28ms/step\n",
            "1/1 [==============================] - 0s 34ms/step\n",
            "1/1 [==============================] - 0s 32ms/step\n",
            "1/1 [==============================] - 0s 30ms/step\n",
            "1/1 [==============================] - 0s 28ms/step\n",
            "1/1 [==============================] - 0s 30ms/step\n",
            "1/1 [==============================] - 0s 28ms/step\n",
            "1/1 [==============================] - 0s 28ms/step\n",
            "1/1 [==============================] - 0s 31ms/step\n",
            "1/1 [==============================] - 0s 28ms/step\n",
            "1/1 [==============================] - 0s 29ms/step\n",
            "1/1 [==============================] - 0s 30ms/step\n",
            "1/1 [==============================] - 0s 32ms/step\n",
            "1/1 [==============================] - 0s 29ms/step\n",
            "1/1 [==============================] - 0s 31ms/step\n",
            "1/1 [==============================] - 0s 29ms/step\n",
            "1/1 [==============================] - 0s 37ms/step\n",
            "1/1 [==============================] - 0s 29ms/step\n",
            "1/1 [==============================] - 0s 31ms/step\n",
            "1/1 [==============================] - 0s 29ms/step\n",
            "1/1 [==============================] - 0s 29ms/step\n",
            "1/1 [==============================] - 0s 34ms/step\n",
            "1/1 [==============================] - 0s 28ms/step\n",
            "1/1 [==============================] - 0s 28ms/step\n",
            "1/1 [==============================] - 0s 28ms/step\n",
            "1/1 [==============================] - 0s 28ms/step\n",
            "1/1 [==============================] - 0s 27ms/step\n",
            "1/1 [==============================] - 0s 28ms/step\n",
            "1/1 [==============================] - 0s 29ms/step\n",
            "1/1 [==============================] - 0s 29ms/step\n",
            "1/1 [==============================] - 0s 30ms/step\n",
            "1/1 [==============================] - 0s 30ms/step\n",
            "1/1 [==============================] - 0s 30ms/step\n",
            "1/1 [==============================] - 0s 30ms/step\n",
            "1/1 [==============================] - 0s 28ms/step\n",
            "1/1 [==============================] - 0s 29ms/step\n",
            "1/1 [==============================] - 0s 29ms/step\n",
            "1/1 [==============================] - 0s 29ms/step\n",
            "1/1 [==============================] - 0s 29ms/step\n",
            "1/1 [==============================] - 0s 28ms/step\n",
            "1/1 [==============================] - 0s 30ms/step\n",
            "1/1 [==============================] - 0s 30ms/step\n",
            "1/1 [==============================] - 0s 31ms/step\n",
            "1/1 [==============================] - 0s 28ms/step\n",
            "1/1 [==============================] - 0s 28ms/step\n",
            "Accuracy: 90.66666666666666 %\n"
          ]
        }
      ]
    }
  ]
}
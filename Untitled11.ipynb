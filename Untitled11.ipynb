{
  "nbformat": 4,
  "nbformat_minor": 0,
  "metadata": {
    "colab": {
      "provenance": [],
      "gpuType": "T4",
      "authorship_tag": "ABX9TyNpywU6Gu02VRbnJn7aOmaZ",
      "include_colab_link": true
    },
    "kernelspec": {
      "name": "python3",
      "display_name": "Python 3"
    },
    "language_info": {
      "name": "python"
    },
    "accelerator": "GPU",
    "gpuClass": "standard"
  },
  "cells": [
    {
      "cell_type": "markdown",
      "metadata": {
        "id": "view-in-github",
        "colab_type": "text"
      },
      "source": [
        "<a href=\"https://colab.research.google.com/github/Nhutsang/Finalproject/blob/main/Untitled11.ipynb\" target=\"_parent\"><img src=\"https://colab.research.google.com/assets/colab-badge.svg\" alt=\"Open In Colab\"/></a>"
      ]
    },
    {
      "cell_type": "code",
      "execution_count": 46,
      "metadata": {
        "id": "ub0dSIunXP1r"
      },
      "outputs": [],
      "source": [
        "# Khai báo và sử dụng các thư viện sau\n",
        "from sklearn.model_selection import train_test_split\n",
        "import matplotlib.pyplot as plt\n",
        "import os\n",
        "import numpy as np\n",
        "import tensorflow as tf\n",
        "from keras.utils import np_utils\n",
        "from keras.models import Sequential\n",
        "from keras.layers import Dense, Activation, Dropout, Conv2D, MaxPooling2D, Flatten,  LeakyReLU\n",
        "from tensorflow.keras.optimizers import SGD, RMSprop\n",
        "from keras.callbacks import EarlyStopping, ModelCheckpoint\n",
        "from sklearn.utils import validation \n",
        "from sklearn import preprocessing\n",
        "from tensorflow.keras.utils import to_categorical\n",
        "from tensorflow.keras.models import load_model\n",
        "from tensorflow.keras.utils import load_img, img_to_array\n",
        "from tensorflow.keras.preprocessing.image import ImageDataGenerator"
      ]
    },
    {
      "cell_type": "code",
      "source": [
        "# Tạo ra class ImageDataGenerator để chỉnh sửa ảnh \n",
        "train=ImageDataGenerator(rescale=1./255, shear_range=0.2, zoom_range=0.2, horizontal_flip=True)\n"
      ],
      "metadata": {
        "id": "Kv2hGNRyXQsE"
      },
      "execution_count": 47,
      "outputs": []
    },
    {
      "cell_type": "code",
      "source": [
        "\n",
        "from google.colab import drive\n",
        "drive.mount('/content/drive')\n",
        "     "
      ],
      "metadata": {
        "colab": {
          "base_uri": "https://localhost:8080/"
        },
        "id": "xpJGn1j8Xjop",
        "outputId": "5828ef71-6c52-4e70-81eb-7db87120a314"
      },
      "execution_count": 48,
      "outputs": [
        {
          "output_type": "stream",
          "name": "stdout",
          "text": [
            "Drive already mounted at /content/drive; to attempt to forcibly remount, call drive.mount(\"/content/drive\", force_remount=True).\n"
          ]
        }
      ]
    },
    {
      "cell_type": "code",
      "source": [
        "# Tạo bộ dữ liệu training set\n",
        "training_set= train.flow_from_directory('/content/drive/MyDrive/data/datatrain/',\n",
        "                                               target_size=(100,100), batch_size=32, class_mode='categorical')"
      ],
      "metadata": {
        "colab": {
          "base_uri": "https://localhost:8080/"
        },
        "id": "_r3-UvJMXSqw",
        "outputId": "2775bb52-d911-4a1f-856d-bf205d15b3a8"
      },
      "execution_count": 49,
      "outputs": [
        {
          "output_type": "stream",
          "name": "stdout",
          "text": [
            "Found 749 images belonging to 5 classes.\n"
          ]
        }
      ]
    },
    {
      "cell_type": "code",
      "source": [
        "# Các nhãn có trong bộ dữ liệu training set\n",
        "training_set.class_indices"
      ],
      "metadata": {
        "colab": {
          "base_uri": "https://localhost:8080/"
        },
        "id": "xW7oQnuLXrML",
        "outputId": "ea5c5907-6e43-473c-8a09-303dd2b678e7"
      },
      "execution_count": 50,
      "outputs": [
        {
          "output_type": "execute_result",
          "data": {
            "text/plain": [
              "{'Glasses': 0, 'Sandal': 1, 'Sneaker': 2, 'Trouser': 3, 'Watch': 4}"
            ]
          },
          "metadata": {},
          "execution_count": 50
        }
      ]
    },
    {
      "cell_type": "code",
      "source": [
        "# Tạo ra mạng CNN để train mô hình\n",
        "model=Sequential()\n",
        "\n",
        "model.add(Conv2D(32,(3,3), activation='linear', kernel_initializer='he_uniform', padding='same',input_shape=(100,100,3))) \n",
        "model.add(LeakyReLU(alpha = 0.1))\n",
        "model.add(MaxPooling2D((2,2), padding = 'same'))\n",
        "\n",
        "\n",
        "model.add(Conv2D(64,(3,3), activation='linear', kernel_initializer='he_uniform', padding='same')) \n",
        "model.add(LeakyReLU(alpha = 0.1))\n",
        "model.add(MaxPooling2D((2,2), padding = 'same'))\n",
        "\n",
        "model.add(Conv2D(128,(3,3), activation='linear', kernel_initializer='he_uniform', padding='same')) \n",
        "model.add(LeakyReLU(alpha = 0.1))\n",
        "model.add(MaxPooling2D((2,2), padding = 'same'))\n",
        "\n",
        "model.add(Flatten())\n",
        "model.add(Dense(256,activation='linear',kernel_initializer='he_uniform'))\n",
        "model.add(Dropout(0.2))\n",
        "model.add(LeakyReLU(alpha = 0.1))\n",
        "model.add(Dense(5,activation='softmax'))\n",
        "\n",
        "# Biên dịch \n",
        "model.compile(optimizer='adam',loss='categorical_crossentropy',metrics=['accuracy'])\n",
        "model.summary()"
      ],
      "metadata": {
        "colab": {
          "base_uri": "https://localhost:8080/"
        },
        "id": "BuWf6-fYXZM0",
        "outputId": "7a8e26c9-cc3f-482a-ece2-465461e0c2fa"
      },
      "execution_count": 51,
      "outputs": [
        {
          "output_type": "stream",
          "name": "stdout",
          "text": [
            "Model: \"sequential_3\"\n",
            "_________________________________________________________________\n",
            " Layer (type)                Output Shape              Param #   \n",
            "=================================================================\n",
            " conv2d_9 (Conv2D)           (None, 100, 100, 32)      896       \n",
            "                                                                 \n",
            " leaky_re_lu_12 (LeakyReLU)  (None, 100, 100, 32)      0         \n",
            "                                                                 \n",
            " max_pooling2d_9 (MaxPooling  (None, 50, 50, 32)       0         \n",
            " 2D)                                                             \n",
            "                                                                 \n",
            " conv2d_10 (Conv2D)          (None, 50, 50, 64)        18496     \n",
            "                                                                 \n",
            " leaky_re_lu_13 (LeakyReLU)  (None, 50, 50, 64)        0         \n",
            "                                                                 \n",
            " max_pooling2d_10 (MaxPoolin  (None, 25, 25, 64)       0         \n",
            " g2D)                                                            \n",
            "                                                                 \n",
            " conv2d_11 (Conv2D)          (None, 25, 25, 128)       73856     \n",
            "                                                                 \n",
            " leaky_re_lu_14 (LeakyReLU)  (None, 25, 25, 128)       0         \n",
            "                                                                 \n",
            " max_pooling2d_11 (MaxPoolin  (None, 13, 13, 128)      0         \n",
            " g2D)                                                            \n",
            "                                                                 \n",
            " flatten_3 (Flatten)         (None, 21632)             0         \n",
            "                                                                 \n",
            " dense_6 (Dense)             (None, 256)               5538048   \n",
            "                                                                 \n",
            " dropout_3 (Dropout)         (None, 256)               0         \n",
            "                                                                 \n",
            " leaky_re_lu_15 (LeakyReLU)  (None, 256)               0         \n",
            "                                                                 \n",
            " dense_7 (Dense)             (None, 5)                 1285      \n",
            "                                                                 \n",
            "=================================================================\n",
            "Total params: 5,632,581\n",
            "Trainable params: 5,632,581\n",
            "Non-trainable params: 0\n",
            "_________________________________________________________________\n"
          ]
        }
      ]
    },
    {
      "cell_type": "code",
      "source": [
        "a = model.fit_generator( training_set, epochs= 10,steps_per_epoch=len(training_set)\n",
        ")"
      ],
      "metadata": {
        "colab": {
          "base_uri": "https://localhost:8080/"
        },
        "id": "OSjhd5oZXyWg",
        "outputId": "ac82be36-ab08-44b4-e7a5-0d4e73c79dd1"
      },
      "execution_count": 52,
      "outputs": [
        {
          "output_type": "stream",
          "name": "stderr",
          "text": [
            "<ipython-input-52-74c7ae2b7aec>:1: UserWarning: `Model.fit_generator` is deprecated and will be removed in a future version. Please use `Model.fit`, which supports generators.\n",
            "  a = model.fit_generator( training_set, epochs= 10,steps_per_epoch=len(training_set)\n"
          ]
        },
        {
          "output_type": "stream",
          "name": "stdout",
          "text": [
            "Epoch 1/10\n",
            "24/24 [==============================] - 8s 182ms/step - loss: 7.2681 - accuracy: 0.4406\n",
            "Epoch 2/10\n",
            "24/24 [==============================] - 4s 149ms/step - loss: 0.8219 - accuracy: 0.6782\n",
            "Epoch 3/10\n",
            "24/24 [==============================] - 3s 134ms/step - loss: 0.6233 - accuracy: 0.7610\n",
            "Epoch 4/10\n",
            "24/24 [==============================] - 4s 145ms/step - loss: 0.5134 - accuracy: 0.7997\n",
            "Epoch 5/10\n",
            "24/24 [==============================] - 4s 179ms/step - loss: 0.4421 - accuracy: 0.8411\n",
            "Epoch 6/10\n",
            "24/24 [==============================] - 3s 145ms/step - loss: 0.3610 - accuracy: 0.8692\n",
            "Epoch 7/10\n",
            "24/24 [==============================] - 5s 190ms/step - loss: 0.2791 - accuracy: 0.9052\n",
            "Epoch 8/10\n",
            "24/24 [==============================] - 4s 158ms/step - loss: 0.2382 - accuracy: 0.9159\n",
            "Epoch 9/10\n",
            "24/24 [==============================] - 4s 147ms/step - loss: 0.1834 - accuracy: 0.9332\n",
            "Epoch 10/10\n",
            "24/24 [==============================] - 5s 226ms/step - loss: 0.1715 - accuracy: 0.9386\n"
          ]
        }
      ]
    },
    {
      "cell_type": "code",
      "source": [
        "img = load_img('/content/drive/MyDrive/data/test/1.jpg', target_size=(100,100))\n",
        "plt.imshow(img)"
      ],
      "metadata": {
        "colab": {
          "base_uri": "https://localhost:8080/",
          "height": 450
        },
        "id": "6lHBbrGzX54m",
        "outputId": "1f806e56-43d7-4097-9b20-fcb949a07d8e"
      },
      "execution_count": 53,
      "outputs": [
        {
          "output_type": "execute_result",
          "data": {
            "text/plain": [
              "<matplotlib.image.AxesImage at 0x7ff632678100>"
            ]
          },
          "metadata": {},
          "execution_count": 53
        },
        {
          "output_type": "display_data",
          "data": {
            "text/plain": [
              "<Figure size 640x480 with 1 Axes>"
            ],
            "image/png": "[encoded data removed]"
          },
          "metadata": {}
        }
      ]
    },
    {
      "cell_type": "code",
      "source": [
        "class_name = ['Watch' , 'Sneaker' , 'Trouser' , 'Sandal' , 'Glasses']"
      ],
      "metadata": {
        "id": "7AMa6CtOjr5M"
      },
      "execution_count": 54,
      "outputs": []
    },
    {
      "cell_type": "code",
      "source": [
        "imgRe = img_to_array(img)\n",
        "imgRe = imgRe.reshape(1,100,100,3)  \n",
        "imgRe = imgRe.astype('float32')\n",
        "imgRe /= 255\n",
        "y_pred = model.predict(imgRe)\n",
        "print(y_pred)\n",
        "y_classes = [np.argmax(element) for element in y_pred]\n",
        "y_classes\n",
        "class_name[y_classes[0]]\n",
        "#print('y_classes' , y_classes)"
      ],
      "metadata": {
        "colab": {
          "base_uri": "https://localhost:8080/",
          "height": 70
        },
        "id": "QDhDpSgfjZRw",
        "outputId": "876c9964-b308-4bf2-9b94-ca98aa5af627"
      },
      "execution_count": 61,
      "outputs": [
        {
          "output_type": "stream",
          "name": "stdout",
          "text": [
            "1/1 [==============================] - 0s 38ms/step\n",
            "[[2.0112861e-05 2.1637887e-02 9.7793829e-01 3.5291527e-05 3.6842664e-04]]\n"
          ]
        },
        {
          "output_type": "execute_result",
          "data": {
            "text/plain": [
              "'Trouser'"
            ],
            "application/vnd.google.colaboratory.intrinsic+json": {
              "type": "string"
            }
          },
          "metadata": {},
          "execution_count": 61
        }
      ]
    },
    {
      "cell_type": "code",
      "source": [],
      "metadata": {
        "id": "EX31IrNVjDEE"
      },
      "execution_count": null,
      "outputs": []
    }
  ]
}
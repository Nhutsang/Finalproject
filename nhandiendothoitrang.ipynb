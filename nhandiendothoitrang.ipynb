{
  "nbformat": 4,
  "nbformat_minor": 0,
  "metadata": {
    "colab": {
      "provenance": [],
      "gpuType": "T4",
      "authorship_tag": "ABX9TyMWcYVFsp+bvEpntN1KFRKh",
      "include_colab_link": true
    },
    "kernelspec": {
      "name": "python3",
      "display_name": "Python 3"
    },
    "language_info": {
      "name": "python"
    },
    "accelerator": "GPU",
    "gpuClass": "standard"
  },
  "cells": [
    {
      "cell_type": "markdown",
      "metadata": {
        "id": "view-in-github",
        "colab_type": "text"
      },
      "source": [
        "<a href=\"https://colab.research.google.com/github/Nhutsang/Finalproject/blob/main/nhandiendothoitrang.ipynb\" target=\"_parent\"><img src=\"https://colab.research.google.com/assets/colab-badge.svg\" alt=\"Open In Colab\"/></a>"
      ]
    },
    {
      "cell_type": "code",
      "execution_count": 24,
      "metadata": {
        "colab": {
          "base_uri": "https://localhost:8080/"
        },
        "id": "qz_smjdz0yxw",
        "outputId": "45c04e91-155c-4955-d1c3-0ddc796e6537"
      },
      "outputs": [
        {
          "output_type": "stream",
          "name": "stdout",
          "text": [
            "Drive already mounted at /content/drive; to attempt to forcibly remount, call drive.mount(\"/content/drive\", force_remount=True).\n"
          ]
        }
      ],
      "source": [
        "from google.colab import drive\n",
        "drive.mount('/content/drive')"
      ]
    },
    {
      "cell_type": "code",
      "source": [
        "import numpy as np\n",
        "import matplotlib.pyplot as plt\n",
        "from os import listdir\n",
        "from numpy import asarray,save\n",
        "from sklearn.model_selection import train_test_split\n",
        "from time import time\n",
        "from keras.utils import load_img, img_to_array\n",
        "from keras.utils  import to_categorical\n",
        "from keras.models import Sequential, Model\n",
        "from keras.layers import *\n",
        "from keras.layers import LeakyReLU\n",
        "from keras.optimizers import Adam\n",
        "from keras.engine.training import optimizers\n",
        "from keras.backend import categorical_crossentropy"
      ],
      "metadata": {
        "id": "kVj6jYB201iq"
      },
      "execution_count": 25,
      "outputs": []
    },
    {
      "cell_type": "code",
      "source": [
        "import os\n",
        "import cv2\n",
        "import numpy as np\n",
        "\n",
        "data_folder = '/content/drive/MyDrive/data/datatrain/'\n",
        "categories = ['Trouser', 'Watch', 'Sneaker', 'Glasses', 'Sandal']\n",
        "\n",
        "X = []\n",
        "y = []\n",
        "\n",
        "# Đọc và chuyển đổi ảnh thành ma trận numpy\n",
        "for category in categories:\n",
        "    category_dir = os.path.join(data_folder, category)\n",
        "    for image_file in os.listdir(category_dir):\n",
        "        image_path = os.path.join(category_dir, image_file)\n",
        "        image = cv2.imread(image_path)\n",
        "        image = cv2.resize(image, (50, 50))\n",
        "        image = cv2.cvtColor(image, cv2.COLOR_BGR2RGB)\n",
        "        X.append(image)\n",
        "        y.append(categories.index(category))\n",
        "\n",
        "# Chuyển đổi danh sách thành mảng numpy\n",
        "X = np.array(X)\n",
        "y = np.array(y)\n",
        "\n",
        "# In thông tin của X_train và y_train\n",
        "print('Kích thước X_train:', X.shape)\n",
        "print('kich thuoc y:', y.shape)\n"
      ],
      "metadata": {
        "colab": {
          "base_uri": "https://localhost:8080/"
        },
        "id": "ZTN3fVEi1HhD",
        "outputId": "d05782ac-180a-4abf-f66d-43dd48418a1a"
      },
      "execution_count": 26,
      "outputs": [
        {
          "output_type": "stream",
          "name": "stdout",
          "text": [
            "Kích thước X_train: (750, 50, 50, 3)\n",
            "kich thuoc y: (750,)\n"
          ]
        }
      ]
    },
    {
      "cell_type": "code",
      "source": [
        "X_train_val, X_test , y_train_val , y_test = train_test_split(X, y , test_size = 0.1)\n",
        "X_train , X_val , y_train , y_val = train_test_split(X_train_val, y_train_val, test_size = 0.2)\n",
        "     "
      ],
      "metadata": {
        "id": "zmEjke_w3egE"
      },
      "execution_count": 27,
      "outputs": []
    },
    {
      "cell_type": "code",
      "source": [
        "\n",
        "print('Kích thước X_train:', X_train.shape)\n",
        "print('kich thuoc y_train:', y_train.shape)\n",
        "\n",
        "print('Kích thước X_val:', X_val.shape)\n",
        "print('kich thuoc y_val:', y_val.shape)\n",
        "\n",
        "print('Kích thước X_test:', X_test.shape)\n",
        "print('kich thuoc y_test:', y_test.shape)"
      ],
      "metadata": {
        "colab": {
          "base_uri": "https://localhost:8080/"
        },
        "id": "6fkE0uUz3oBR",
        "outputId": "f4a380df-cfe1-4916-a58e-b18e73edd0b6"
      },
      "execution_count": 28,
      "outputs": [
        {
          "output_type": "stream",
          "name": "stdout",
          "text": [
            "Kích thước X_train: (540, 50, 50, 3)\n",
            "kich thuoc y_train: (540,)\n",
            "Kích thước X_val: (135, 50, 50, 3)\n",
            "kich thuoc y_val: (135,)\n",
            "Kích thước X_test: (75, 50, 50, 3)\n",
            "kich thuoc y_test: (75,)\n"
          ]
        }
      ]
    },
    {
      "cell_type": "code",
      "source": [
        " #one hot enccoding giatri mau tung diem anh tu thap phan duoi dang 10 bit\n",
        "trainY = to_categorical (y_train)\n",
        "testY=to_categorical(y_test)\n",
        "valY=to_categorical(y_val)\n",
        "\n",
        "print(trainY.shape)\n",
        "print(testY.shape)\n",
        "print(valY.shape)"
      ],
      "metadata": {
        "colab": {
          "base_uri": "https://localhost:8080/"
        },
        "id": "_PVvuXS_3yzG",
        "outputId": "74a40033-d214-4e14-f0b7-30f3dbc46e9b"
      },
      "execution_count": 29,
      "outputs": [
        {
          "output_type": "stream",
          "name": "stdout",
          "text": [
            "(540, 5)\n",
            "(75, 5)\n",
            "(135, 5)\n"
          ]
        }
      ]
    },
    {
      "cell_type": "code",
      "source": [
        "batch_size = 32\n",
        "epochs = 70\n",
        "classes = 5\n",
        "img_size = 50 \n",
        "#Tạo 1 mạng có 28x28 input và 10 output\n",
        "model = Sequential()\n",
        "\n",
        "# 1 bộ VGG\n",
        "model.add(Conv2D(32, kernel_size=(3,3), activation = 'tanh', input_shape=(img_size,img_size,3),padding = 'same'))\n",
        "model.add(LeakyReLU(alpha=0.1))  # Hàm xử lý dữ liệu (Ngưỡng)\n",
        "model.add(MaxPooling2D((2,2), padding='same'))\n",
        "\n",
        "\n",
        "# Bộ 2 VGG\n",
        "model.add(Conv2D(64,(3,3) , activation = 'tanh' , padding = 'same'))\n",
        "model.add(LeakyReLU(alpha = 0.1)) # Hàm xử lý dữ liệu (Ngưỡng)\n",
        "model.add(MaxPooling2D((2,2), padding = 'same'))\n",
        "\n",
        "# Bộ 3 VGG\n",
        "model.add(Conv2D(128,(3,3) , activation = 'tanh' , padding = 'same'))\n",
        "model.add(LeakyReLU(alpha = 0.1)) # Hàm xử lý dữ liệu (Ngưỡng)\n",
        "model.add(MaxPooling2D((2,2), padding = 'same'))\n",
        "\n",
        "\n",
        "\n",
        "\n",
        "# ANN Model\n",
        "model.add(Flatten()) # Lấy kích thước trước rồi làm phẳng\n",
        "model.add(Dense(128, activation = 'tanh'))\n",
        "model.add(LeakyReLU(alpha = 0.1))\n",
        "model.add(Dense(classes , activation = 'softmax'))     \n",
        "\n",
        "\n",
        "\n",
        "model.compile(loss = categorical_crossentropy, optimizer = Adam() , metrics=['accuracy'])\n",
        "model.summary()"
      ],
      "metadata": {
        "colab": {
          "base_uri": "https://localhost:8080/"
        },
        "id": "mgr9SzSg4K0Z",
        "outputId": "ef019b10-6280-44a8-c9c6-5b94d4ab2201"
      },
      "execution_count": 30,
      "outputs": [
        {
          "output_type": "stream",
          "name": "stdout",
          "text": [
            "Model: \"sequential_3\"\n",
            "_________________________________________________________________\n",
            " Layer (type)                Output Shape              Param #   \n",
            "=================================================================\n",
            " conv2d_9 (Conv2D)           (None, 50, 50, 32)        896       \n",
            "                                                                 \n",
            " leaky_re_lu_12 (LeakyReLU)  (None, 50, 50, 32)        0         \n",
            "                                                                 \n",
            " max_pooling2d_9 (MaxPooling  (None, 25, 25, 32)       0         \n",
            " 2D)                                                             \n",
            "                                                                 \n",
            " conv2d_10 (Conv2D)          (None, 25, 25, 64)        18496     \n",
            "                                                                 \n",
            " leaky_re_lu_13 (LeakyReLU)  (None, 25, 25, 64)        0         \n",
            "                                                                 \n",
            " max_pooling2d_10 (MaxPoolin  (None, 13, 13, 64)       0         \n",
            " g2D)                                                            \n",
            "                                                                 \n",
            " conv2d_11 (Conv2D)          (None, 13, 13, 128)       73856     \n",
            "                                                                 \n",
            " leaky_re_lu_14 (LeakyReLU)  (None, 13, 13, 128)       0         \n",
            "                                                                 \n",
            " max_pooling2d_11 (MaxPoolin  (None, 7, 7, 128)        0         \n",
            " g2D)                                                            \n",
            "                                                                 \n",
            " flatten_3 (Flatten)         (None, 6272)              0         \n",
            "                                                                 \n",
            " dense_6 (Dense)             (None, 128)               802944    \n",
            "                                                                 \n",
            " leaky_re_lu_15 (LeakyReLU)  (None, 128)               0         \n",
            "                                                                 \n",
            " dense_7 (Dense)             (None, 5)                 645       \n",
            "                                                                 \n",
            "=================================================================\n",
            "Total params: 896,837\n",
            "Trainable params: 896,837\n",
            "Non-trainable params: 0\n",
            "_________________________________________________________________\n"
          ]
        }
      ]
    },
    {
      "cell_type": "code",
      "source": [
        "start = time()\n",
        "train = model.fit(X_train, trainY, batch_size,epochs= 70,verbose = 1, validation_data=(X_val, valY))\n",
        "#print(time()-start)"
      ],
      "metadata": {
        "colab": {
          "base_uri": "https://localhost:8080/"
        },
        "id": "bt4XzexG4N13",
        "outputId": "c1f906d9-a714-4308-b35b-bd58504b8d00"
      },
      "execution_count": 31,
      "outputs": [
        {
          "output_type": "stream",
          "name": "stdout",
          "text": [
            "Epoch 1/70\n",
            "17/17 [==============================] - 1s 20ms/step - loss: 1.6668 - accuracy: 0.3111 - val_loss: 1.1799 - val_accuracy: 0.5926\n",
            "Epoch 2/70\n",
            "17/17 [==============================] - 0s 10ms/step - loss: 0.8821 - accuracy: 0.6537 - val_loss: 0.7127 - val_accuracy: 0.7333\n",
            "Epoch 3/70\n",
            "17/17 [==============================] - 0s 10ms/step - loss: 0.5663 - accuracy: 0.7907 - val_loss: 0.5603 - val_accuracy: 0.8000\n",
            "Epoch 4/70\n",
            "17/17 [==============================] - 0s 9ms/step - loss: 0.4454 - accuracy: 0.8259 - val_loss: 0.5458 - val_accuracy: 0.7778\n",
            "Epoch 5/70\n",
            "17/17 [==============================] - 0s 9ms/step - loss: 0.4107 - accuracy: 0.8519 - val_loss: 0.5027 - val_accuracy: 0.8370\n",
            "Epoch 6/70\n",
            "17/17 [==============================] - 0s 9ms/step - loss: 0.3411 - accuracy: 0.8648 - val_loss: 0.4624 - val_accuracy: 0.8593\n",
            "Epoch 7/70\n",
            "17/17 [==============================] - 0s 9ms/step - loss: 0.2550 - accuracy: 0.9296 - val_loss: 0.4197 - val_accuracy: 0.8667\n",
            "Epoch 8/70\n",
            "17/17 [==============================] - 0s 8ms/step - loss: 0.2239 - accuracy: 0.9389 - val_loss: 0.4200 - val_accuracy: 0.8519\n",
            "Epoch 9/70\n",
            "17/17 [==============================] - 0s 9ms/step - loss: 0.1874 - accuracy: 0.9426 - val_loss: 0.3987 - val_accuracy: 0.8667\n",
            "Epoch 10/70\n",
            "17/17 [==============================] - 0s 8ms/step - loss: 0.1365 - accuracy: 0.9685 - val_loss: 0.3874 - val_accuracy: 0.8519\n",
            "Epoch 11/70\n",
            "17/17 [==============================] - 0s 8ms/step - loss: 0.1118 - accuracy: 0.9759 - val_loss: 0.3659 - val_accuracy: 0.8963\n",
            "Epoch 12/70\n",
            "17/17 [==============================] - 0s 8ms/step - loss: 0.0899 - accuracy: 0.9870 - val_loss: 0.3827 - val_accuracy: 0.8667\n",
            "Epoch 13/70\n",
            "17/17 [==============================] - 0s 8ms/step - loss: 0.0752 - accuracy: 0.9907 - val_loss: 0.3578 - val_accuracy: 0.8889\n",
            "Epoch 14/70\n",
            "17/17 [==============================] - 0s 8ms/step - loss: 0.0482 - accuracy: 0.9963 - val_loss: 0.3604 - val_accuracy: 0.8815\n",
            "Epoch 15/70\n",
            "17/17 [==============================] - 0s 9ms/step - loss: 0.0359 - accuracy: 0.9963 - val_loss: 0.3505 - val_accuracy: 0.8815\n",
            "Epoch 16/70\n",
            "17/17 [==============================] - 0s 8ms/step - loss: 0.0261 - accuracy: 0.9981 - val_loss: 0.3490 - val_accuracy: 0.8963\n",
            "Epoch 17/70\n",
            "17/17 [==============================] - 0s 8ms/step - loss: 0.0207 - accuracy: 0.9981 - val_loss: 0.3516 - val_accuracy: 0.8889\n",
            "Epoch 18/70\n",
            "17/17 [==============================] - 0s 11ms/step - loss: 0.0159 - accuracy: 1.0000 - val_loss: 0.3497 - val_accuracy: 0.8889\n",
            "Epoch 19/70\n",
            "17/17 [==============================] - 0s 8ms/step - loss: 0.0131 - accuracy: 1.0000 - val_loss: 0.3451 - val_accuracy: 0.8963\n",
            "Epoch 20/70\n",
            "17/17 [==============================] - 0s 8ms/step - loss: 0.0106 - accuracy: 1.0000 - val_loss: 0.3509 - val_accuracy: 0.8963\n",
            "Epoch 21/70\n",
            "17/17 [==============================] - 0s 8ms/step - loss: 0.0094 - accuracy: 1.0000 - val_loss: 0.3522 - val_accuracy: 0.8963\n",
            "Epoch 22/70\n",
            "17/17 [==============================] - 0s 8ms/step - loss: 0.0082 - accuracy: 1.0000 - val_loss: 0.3509 - val_accuracy: 0.8889\n",
            "Epoch 23/70\n",
            "17/17 [==============================] - 0s 8ms/step - loss: 0.0073 - accuracy: 1.0000 - val_loss: 0.3559 - val_accuracy: 0.8963\n",
            "Epoch 24/70\n",
            "17/17 [==============================] - 0s 8ms/step - loss: 0.0064 - accuracy: 1.0000 - val_loss: 0.3475 - val_accuracy: 0.9037\n",
            "Epoch 25/70\n",
            "17/17 [==============================] - 0s 10ms/step - loss: 0.0061 - accuracy: 1.0000 - val_loss: 0.3609 - val_accuracy: 0.8889\n",
            "Epoch 26/70\n",
            "17/17 [==============================] - 0s 11ms/step - loss: 0.0055 - accuracy: 1.0000 - val_loss: 0.3494 - val_accuracy: 0.8963\n",
            "Epoch 27/70\n",
            "17/17 [==============================] - 0s 10ms/step - loss: 0.0051 - accuracy: 1.0000 - val_loss: 0.3549 - val_accuracy: 0.8963\n",
            "Epoch 28/70\n",
            "17/17 [==============================] - 0s 9ms/step - loss: 0.0047 - accuracy: 1.0000 - val_loss: 0.3528 - val_accuracy: 0.8889\n",
            "Epoch 29/70\n",
            "17/17 [==============================] - 0s 10ms/step - loss: 0.0044 - accuracy: 1.0000 - val_loss: 0.3539 - val_accuracy: 0.8889\n",
            "Epoch 30/70\n",
            "17/17 [==============================] - 0s 10ms/step - loss: 0.0041 - accuracy: 1.0000 - val_loss: 0.3559 - val_accuracy: 0.8963\n",
            "Epoch 31/70\n",
            "17/17 [==============================] - 0s 9ms/step - loss: 0.0039 - accuracy: 1.0000 - val_loss: 0.3526 - val_accuracy: 0.8889\n",
            "Epoch 32/70\n",
            "17/17 [==============================] - 0s 9ms/step - loss: 0.0036 - accuracy: 1.0000 - val_loss: 0.3583 - val_accuracy: 0.8889\n",
            "Epoch 33/70\n",
            "17/17 [==============================] - 0s 9ms/step - loss: 0.0035 - accuracy: 1.0000 - val_loss: 0.3564 - val_accuracy: 0.8889\n",
            "Epoch 34/70\n",
            "17/17 [==============================] - 0s 9ms/step - loss: 0.0032 - accuracy: 1.0000 - val_loss: 0.3558 - val_accuracy: 0.8963\n",
            "Epoch 35/70\n",
            "17/17 [==============================] - 0s 12ms/step - loss: 0.0031 - accuracy: 1.0000 - val_loss: 0.3598 - val_accuracy: 0.8889\n",
            "Epoch 36/70\n",
            "17/17 [==============================] - 0s 11ms/step - loss: 0.0029 - accuracy: 1.0000 - val_loss: 0.3574 - val_accuracy: 0.8963\n",
            "Epoch 37/70\n",
            "17/17 [==============================] - 0s 10ms/step - loss: 0.0027 - accuracy: 1.0000 - val_loss: 0.3603 - val_accuracy: 0.8963\n",
            "Epoch 38/70\n",
            "17/17 [==============================] - 0s 13ms/step - loss: 0.0026 - accuracy: 1.0000 - val_loss: 0.3626 - val_accuracy: 0.8963\n",
            "Epoch 39/70\n",
            "17/17 [==============================] - 0s 14ms/step - loss: 0.0025 - accuracy: 1.0000 - val_loss: 0.3624 - val_accuracy: 0.8889\n",
            "Epoch 40/70\n",
            "17/17 [==============================] - 0s 12ms/step - loss: 0.0024 - accuracy: 1.0000 - val_loss: 0.3598 - val_accuracy: 0.8963\n",
            "Epoch 41/70\n",
            "17/17 [==============================] - 0s 11ms/step - loss: 0.0022 - accuracy: 1.0000 - val_loss: 0.3619 - val_accuracy: 0.8963\n",
            "Epoch 42/70\n",
            "17/17 [==============================] - 0s 11ms/step - loss: 0.0022 - accuracy: 1.0000 - val_loss: 0.3644 - val_accuracy: 0.9037\n",
            "Epoch 43/70\n",
            "17/17 [==============================] - 0s 13ms/step - loss: 0.0020 - accuracy: 1.0000 - val_loss: 0.3618 - val_accuracy: 0.8963\n",
            "Epoch 44/70\n",
            "17/17 [==============================] - 0s 9ms/step - loss: 0.0020 - accuracy: 1.0000 - val_loss: 0.3636 - val_accuracy: 0.9037\n",
            "Epoch 45/70\n",
            "17/17 [==============================] - 0s 9ms/step - loss: 0.0019 - accuracy: 1.0000 - val_loss: 0.3673 - val_accuracy: 0.9037\n",
            "Epoch 46/70\n",
            "17/17 [==============================] - 0s 8ms/step - loss: 0.0018 - accuracy: 1.0000 - val_loss: 0.3642 - val_accuracy: 0.9037\n",
            "Epoch 47/70\n",
            "17/17 [==============================] - 0s 8ms/step - loss: 0.0017 - accuracy: 1.0000 - val_loss: 0.3642 - val_accuracy: 0.9037\n",
            "Epoch 48/70\n",
            "17/17 [==============================] - 0s 8ms/step - loss: 0.0017 - accuracy: 1.0000 - val_loss: 0.3677 - val_accuracy: 0.9037\n",
            "Epoch 49/70\n",
            "17/17 [==============================] - 0s 8ms/step - loss: 0.0016 - accuracy: 1.0000 - val_loss: 0.3665 - val_accuracy: 0.9037\n",
            "Epoch 50/70\n",
            "17/17 [==============================] - 0s 8ms/step - loss: 0.0016 - accuracy: 1.0000 - val_loss: 0.3690 - val_accuracy: 0.9037\n",
            "Epoch 51/70\n",
            "17/17 [==============================] - 0s 8ms/step - loss: 0.0015 - accuracy: 1.0000 - val_loss: 0.3685 - val_accuracy: 0.9037\n",
            "Epoch 52/70\n",
            "17/17 [==============================] - 0s 8ms/step - loss: 0.0014 - accuracy: 1.0000 - val_loss: 0.3699 - val_accuracy: 0.9037\n",
            "Epoch 53/70\n",
            "17/17 [==============================] - 0s 9ms/step - loss: 0.0014 - accuracy: 1.0000 - val_loss: 0.3709 - val_accuracy: 0.9037\n",
            "Epoch 54/70\n",
            "17/17 [==============================] - 0s 8ms/step - loss: 0.0013 - accuracy: 1.0000 - val_loss: 0.3716 - val_accuracy: 0.9037\n",
            "Epoch 55/70\n",
            "17/17 [==============================] - 0s 9ms/step - loss: 0.0013 - accuracy: 1.0000 - val_loss: 0.3702 - val_accuracy: 0.9037\n",
            "Epoch 56/70\n",
            "17/17 [==============================] - 0s 8ms/step - loss: 0.0013 - accuracy: 1.0000 - val_loss: 0.3717 - val_accuracy: 0.9037\n",
            "Epoch 57/70\n",
            "17/17 [==============================] - 0s 8ms/step - loss: 0.0012 - accuracy: 1.0000 - val_loss: 0.3732 - val_accuracy: 0.9037\n",
            "Epoch 58/70\n",
            "17/17 [==============================] - 0s 8ms/step - loss: 0.0012 - accuracy: 1.0000 - val_loss: 0.3728 - val_accuracy: 0.9037\n",
            "Epoch 59/70\n",
            "17/17 [==============================] - 0s 9ms/step - loss: 0.0011 - accuracy: 1.0000 - val_loss: 0.3720 - val_accuracy: 0.9037\n",
            "Epoch 60/70\n",
            "17/17 [==============================] - 0s 8ms/step - loss: 0.0011 - accuracy: 1.0000 - val_loss: 0.3749 - val_accuracy: 0.9037\n",
            "Epoch 61/70\n",
            "17/17 [==============================] - 0s 9ms/step - loss: 0.0011 - accuracy: 1.0000 - val_loss: 0.3742 - val_accuracy: 0.9037\n",
            "Epoch 62/70\n",
            "17/17 [==============================] - 0s 8ms/step - loss: 0.0011 - accuracy: 1.0000 - val_loss: 0.3765 - val_accuracy: 0.9037\n",
            "Epoch 63/70\n",
            "17/17 [==============================] - 0s 9ms/step - loss: 0.0010 - accuracy: 1.0000 - val_loss: 0.3761 - val_accuracy: 0.9037\n",
            "Epoch 64/70\n",
            "17/17 [==============================] - 0s 8ms/step - loss: 9.9340e-04 - accuracy: 1.0000 - val_loss: 0.3761 - val_accuracy: 0.9037\n",
            "Epoch 65/70\n",
            "17/17 [==============================] - 0s 8ms/step - loss: 9.6453e-04 - accuracy: 1.0000 - val_loss: 0.3766 - val_accuracy: 0.9037\n",
            "Epoch 66/70\n",
            "17/17 [==============================] - 0s 8ms/step - loss: 9.4074e-04 - accuracy: 1.0000 - val_loss: 0.3778 - val_accuracy: 0.9037\n",
            "Epoch 67/70\n",
            "17/17 [==============================] - 0s 8ms/step - loss: 9.1531e-04 - accuracy: 1.0000 - val_loss: 0.3792 - val_accuracy: 0.9037\n",
            "Epoch 68/70\n",
            "17/17 [==============================] - 0s 9ms/step - loss: 8.9028e-04 - accuracy: 1.0000 - val_loss: 0.3782 - val_accuracy: 0.9037\n",
            "Epoch 69/70\n",
            "17/17 [==============================] - 0s 8ms/step - loss: 8.6807e-04 - accuracy: 1.0000 - val_loss: 0.3802 - val_accuracy: 0.9037\n",
            "Epoch 70/70\n",
            "17/17 [==============================] - 0s 9ms/step - loss: 8.4705e-04 - accuracy: 1.0000 - val_loss: 0.3796 - val_accuracy: 0.9037\n"
          ]
        }
      ]
    },
    {
      "cell_type": "code",
      "source": [
        "# Lưu mô hình vào đường dẫn cụ thể\n",
        "model.save('/content/drive/MyDrive/data/amodel.h5/')\n"
      ],
      "metadata": {
        "id": "mUasPVgANdpg",
        "outputId": "b66bb39c-d861-43cb-ea74-b99c2c135441",
        "colab": {
          "base_uri": "https://localhost:8080/"
        }
      },
      "execution_count": 34,
      "outputs": [
        {
          "output_type": "stream",
          "name": "stderr",
          "text": [
            "WARNING:absl:Found untraced functions such as _jit_compiled_convolution_op, _jit_compiled_convolution_op, _jit_compiled_convolution_op while saving (showing 3 of 3). These functions will not be directly callable after loading.\n"
          ]
        }
      ]
    },
    {
      "cell_type": "code",
      "source": [
        "# Lấy một hình ảnh từ tập test\n",
        "id = 0\n",
        "#a = '/content/drive/MyDrive/data/test//'\n",
        "image = X_test[id]\n",
        "label = y_test[id]\n",
        "classname= {0:'Trouser', 1:'Sandal', 2:'Glasses',3:'Watch', 4:'Sneaker'} \n",
        "\n",
        "# Đưa hình ảnh về đúng kích thước và định dạng phù hợp\n",
        "image = np.expand_dims(image , axis=0)\n",
        "\n",
        "# Dự đoán nhãn của hình ảnh sử dụng mô hình\n",
        "predictions = model.predict(image)\n",
        "\n",
        "# Chuyển đổi dự đoán thành nhãn tương ứng dựa trên xác suất lớn nhất\n",
        "predicted_label = np.argmax(predictions)\n",
        "\n",
        "# In kết quả dự đoán\n",
        "print('True Label:', classname[label])\n",
        "print('Predicted Label:', classname[predicted_label])\n",
        "plt.imshow(X_test[id])\n"
      ],
      "metadata": {
        "colab": {
          "base_uri": "https://localhost:8080/",
          "height": 501
        },
        "id": "mkSYAPjwHUjG",
        "outputId": "dcfaf157-7b3a-4787-dfbc-69c83e77a3a4"
      },
      "execution_count": 32,
      "outputs": [
        {
          "output_type": "stream",
          "name": "stdout",
          "text": [
            "1/1 [==============================] - 0s 75ms/step\n",
            "True Label: Trouser\n",
            "Predicted Label: Trouser\n"
          ]
        },
        {
          "output_type": "execute_result",
          "data": {
            "text/plain": [
              "<matplotlib.image.AxesImage at 0x7feded3f3460>"
            ]
          },
          "metadata": {},
          "execution_count": 32
        },
        {
          "output_type": "display_data",
          "data": {
            "text/plain": [
              "<Figure size 640x480 with 1 Axes>"
            ],
            "image/png": "[encoded data removed]"
          },
          "metadata": {}
        }
      ]
    },
    {
      "cell_type": "code",
      "source": [
        "import random\n",
        "correct_predictions = 0\n",
        "total_predictions = 0\n",
        "\n",
        "for i in range(0,75):\n",
        "  img = X_test[i]\n",
        "  # Đưa hình ảnh về đúng kích thước và định dạng phù hợp\n",
        "  image = np.expand_dims(img , axis=0)  \n",
        "  \n",
        "  # Dự đoán nhãn của hình ảnh sử dụng mô hình\n",
        "  predictions = model.predict(image)\n",
        "  # Chuyển đổi dự đoán thành nhãn tương ứng dựa trên xác suất cao nhất\n",
        "  predicted_label = np.argmax(predictions)\n",
        "\n",
        "  # Kiểm tra xem dự đoán có đúng hay không\n",
        "  truelabel = y_test[i]\n",
        "  if predicted_label == truelabel:\n",
        "    correct_predictions += 1\n",
        "\n",
        "accuracy = (correct_predictions/75)*100\n",
        "print(\"Accuracy:\", accuracy , \"%\")\n",
        "\n"
      ],
      "metadata": {
        "colab": {
          "base_uri": "https://localhost:8080/"
        },
        "id": "O-lySWuWMfDX",
        "outputId": "ead216f3-43cb-4d7c-f4ce-6418bbf918d9"
      },
      "execution_count": 33,
      "outputs": [
        {
          "output_type": "stream",
          "name": "stdout",
          "text": [
            "1/1 [==============================] - 0s 21ms/step\n",
            "1/1 [==============================] - 0s 18ms/step\n",
            "1/1 [==============================] - 0s 19ms/step\n",
            "1/1 [==============================] - 0s 18ms/step\n",
            "1/1 [==============================] - 0s 17ms/step\n",
            "1/1 [==============================] - 0s 17ms/step\n",
            "1/1 [==============================] - 0s 21ms/step\n",
            "1/1 [==============================] - 0s 18ms/step\n",
            "1/1 [==============================] - 0s 17ms/step\n",
            "1/1 [==============================] - 0s 18ms/step\n",
            "1/1 [==============================] - 0s 17ms/step\n",
            "1/1 [==============================] - 0s 18ms/step\n",
            "1/1 [==============================] - 0s 18ms/step\n",
            "1/1 [==============================] - 0s 20ms/step\n",
            "1/1 [==============================] - 0s 20ms/step\n",
            "1/1 [==============================] - 0s 19ms/step\n",
            "1/1 [==============================] - 0s 17ms/step\n",
            "1/1 [==============================] - 0s 17ms/step\n",
            "1/1 [==============================] - 0s 18ms/step\n",
            "1/1 [==============================] - 0s 18ms/step\n",
            "1/1 [==============================] - 0s 19ms/step\n",
            "1/1 [==============================] - 0s 19ms/step\n",
            "1/1 [==============================] - 0s 19ms/step\n",
            "1/1 [==============================] - 0s 19ms/step\n",
            "1/1 [==============================] - 0s 20ms/step\n",
            "1/1 [==============================] - 0s 21ms/step\n",
            "1/1 [==============================] - 0s 19ms/step\n",
            "1/1 [==============================] - 0s 17ms/step\n",
            "1/1 [==============================] - 0s 19ms/step\n",
            "1/1 [==============================] - 0s 29ms/step\n",
            "1/1 [==============================] - 0s 20ms/step\n",
            "1/1 [==============================] - 0s 19ms/step\n",
            "1/1 [==============================] - 0s 20ms/step\n",
            "1/1 [==============================] - 0s 24ms/step\n",
            "1/1 [==============================] - 0s 18ms/step\n",
            "1/1 [==============================] - 0s 19ms/step\n",
            "1/1 [==============================] - 0s 27ms/step\n",
            "1/1 [==============================] - 0s 18ms/step\n",
            "1/1 [==============================] - 0s 19ms/step\n",
            "1/1 [==============================] - 0s 21ms/step\n",
            "1/1 [==============================] - 0s 20ms/step\n",
            "1/1 [==============================] - 0s 21ms/step\n",
            "1/1 [==============================] - 0s 21ms/step\n",
            "1/1 [==============================] - 0s 17ms/step\n",
            "1/1 [==============================] - 0s 19ms/step\n",
            "1/1 [==============================] - 0s 22ms/step\n",
            "1/1 [==============================] - 0s 18ms/step\n",
            "1/1 [==============================] - 0s 21ms/step\n",
            "1/1 [==============================] - 0s 18ms/step\n",
            "1/1 [==============================] - 0s 18ms/step\n",
            "1/1 [==============================] - 0s 18ms/step\n",
            "1/1 [==============================] - 0s 19ms/step\n",
            "1/1 [==============================] - 0s 18ms/step\n",
            "1/1 [==============================] - 0s 21ms/step\n",
            "1/1 [==============================] - 0s 17ms/step\n",
            "1/1 [==============================] - 0s 18ms/step\n",
            "1/1 [==============================] - 0s 26ms/step\n",
            "1/1 [==============================] - 0s 22ms/step\n",
            "1/1 [==============================] - 0s 19ms/step\n",
            "1/1 [==============================] - 0s 20ms/step\n",
            "1/1 [==============================] - 0s 19ms/step\n",
            "1/1 [==============================] - 0s 21ms/step\n",
            "1/1 [==============================] - 0s 24ms/step\n",
            "1/1 [==============================] - 0s 21ms/step\n",
            "1/1 [==============================] - 0s 20ms/step\n",
            "1/1 [==============================] - 0s 19ms/step\n",
            "1/1 [==============================] - 0s 25ms/step\n",
            "1/1 [==============================] - 0s 18ms/step\n",
            "1/1 [==============================] - 0s 23ms/step\n",
            "1/1 [==============================] - 0s 22ms/step\n",
            "1/1 [==============================] - 0s 19ms/step\n",
            "1/1 [==============================] - 0s 20ms/step\n",
            "1/1 [==============================] - 0s 17ms/step\n",
            "1/1 [==============================] - 0s 18ms/step\n",
            "1/1 [==============================] - 0s 23ms/step\n",
            "Accuracy: 92.0 %\n"
          ]
        }
      ]
    }
  ]
}
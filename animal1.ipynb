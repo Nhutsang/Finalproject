{
  "nbformat": 4,
  "nbformat_minor": 0,
  "metadata": {
    "colab": {
      "provenance": [],
      "gpuType": "T4",
      "toc_visible": true,
      "authorship_tag": "ABX9TyOUOC//uBbyue1UPlk/1wDt",
      "include_colab_link": true
    },
    "kernelspec": {
      "name": "python3",
      "display_name": "Python 3"
    },
    "language_info": {
      "name": "python"
    },
    "accelerator": "GPU",
    "gpuClass": "standard"
  },
  "cells": [
    {
      "cell_type": "markdown",
      "metadata": {
        "id": "view-in-github",
        "colab_type": "text"
      },
      "source": [
        "<a href=\"https://colab.research.google.com/github/Nhutsang/Finalproject/blob/main/animal1.ipynb\" target=\"_parent\"><img src=\"https://colab.research.google.com/assets/colab-badge.svg\" alt=\"Open In Colab\"/></a>"
      ]
    },
    {
      "cell_type": "code",
      "execution_count": 39,
      "metadata": {
        "colab": {
          "base_uri": "https://localhost:8080/"
        },
        "id": "AOEs9vtI9iAY",
        "outputId": "d6293d0e-ca21-4675-a3f9-1a55c1d0a8c3"
      },
      "outputs": [
        {
          "output_type": "stream",
          "name": "stdout",
          "text": [
            "Drive already mounted at /content/drive; to attempt to forcibly remount, call drive.mount(\"/content/drive\", force_remount=True).\n"
          ]
        }
      ],
      "source": [
        "from google.colab import drive\n",
        "drive.mount('/content/drive')"
      ]
    },
    {
      "cell_type": "code",
      "source": [
        "import numpy as np\n",
        "import matplotlib.pyplot as plt\n",
        "from os import listdir\n",
        "from numpy import asarray,save\n",
        "from sklearn.model_selection import train_test_split\n",
        "from time import time\n",
        "from keras.utils import load_img, img_to_array\n",
        "from keras.utils  import to_categorical\n",
        "from keras.models import Sequential, Model\n",
        "from keras.layers import *\n",
        "from keras.layers import LeakyReLU\n",
        "from keras.optimizers import Adam\n",
        "from keras.engine.training import optimizers\n",
        "from keras.backend import categorical_crossentropy"
      ],
      "metadata": {
        "id": "zZa26wcg9n9r"
      },
      "execution_count": 40,
      "outputs": []
    },
    {
      "cell_type": "code",
      "source": [
        "import os\n",
        "import cv2\n",
        "import numpy as np\n",
        "\n",
        "data_folder = '/content/drive/MyDrive/database/datatrain/'\n",
        "categories = ['Dogs', 'Cats', 'Hamster']\n",
        "\n",
        "X = []\n",
        "y = []\n",
        "\n",
        "# Đọc và chuyển đổi ảnh thành ma trận numpy\n",
        "for category in categories:\n",
        "    category_dir = os.path.join(data_folder, category)\n",
        "    for image_file in os.listdir(category_dir):\n",
        "        image_path = os.path.join(category_dir, image_file)\n",
        "        image = cv2.imread(image_path)\n",
        "        image = cv2.resize(image, (60,60))\n",
        "        image = cv2.cvtColor(image, cv2.COLOR_BGR2RGB)\n",
        "        X.append(image)\n",
        "        y.append(categories.index(category))\n",
        "\n",
        "# Chuyển đổi danh sách thành mảng numpy\n",
        "X = np.array(X)\n",
        "y = np.array(y)\n",
        "\n",
        "# In thông tin của X_train và y_train\n",
        "print('Kích thước X_train:', X.shape)\n",
        "print('kich thuoc y:', y.shape)"
      ],
      "metadata": {
        "colab": {
          "base_uri": "https://localhost:8080/"
        },
        "id": "bX-rCqMn9sBj",
        "outputId": "9a58b985-d814-4d4e-ff34-462efc1c6548"
      },
      "execution_count": 41,
      "outputs": [
        {
          "output_type": "stream",
          "name": "stdout",
          "text": [
            "Kích thước X_train: (6116, 60, 60, 3)\n",
            "kich thuoc y: (6116,)\n"
          ]
        }
      ]
    },
    {
      "cell_type": "code",
      "source": [
        "X = X.astype('float32')/255.0\n",
        "print(X.shape)"
      ],
      "metadata": {
        "id": "SHt-7CJqBcXc",
        "outputId": "36f02973-fd0a-46a0-c0cc-8817dd4c33fc",
        "colab": {
          "base_uri": "https://localhost:8080/"
        }
      },
      "execution_count": 42,
      "outputs": [
        {
          "output_type": "stream",
          "name": "stdout",
          "text": [
            "(6116, 60, 60, 3)\n"
          ]
        }
      ]
    },
    {
      "cell_type": "code",
      "source": [
        "X_train_val, X_test , y_train_val , y_test = train_test_split(X, y , test_size = 0.1)\n",
        "X_train , X_val , y_train , y_val = train_test_split(X_train_val, y_train_val, test_size = 0.2)"
      ],
      "metadata": {
        "id": "4YUqQgqx9wKp"
      },
      "execution_count": 43,
      "outputs": []
    },
    {
      "cell_type": "code",
      "source": [
        "\n",
        "print('Kích thước X_train:', X_train.shape)\n",
        "print('kich thuoc y_train:', y_train.shape)\n",
        "\n",
        "print('Kích thước X_val:', X_val.shape)\n",
        "print('kich thuoc y_val:', y_val.shape)\n",
        "\n",
        "print('Kích thước X_test:', X_test.shape)\n",
        "print('kich thuoc y_test:', y_test.shape)"
      ],
      "metadata": {
        "colab": {
          "base_uri": "https://localhost:8080/"
        },
        "id": "RMqmFHut9549",
        "outputId": "d4cfea05-9f96-4488-bb9b-8c7b6ce5e1f7"
      },
      "execution_count": 44,
      "outputs": [
        {
          "output_type": "stream",
          "name": "stdout",
          "text": [
            "Kích thước X_train: (4403, 60, 60, 3)\n",
            "kich thuoc y_train: (4403,)\n",
            "Kích thước X_val: (1101, 60, 60, 3)\n",
            "kich thuoc y_val: (1101,)\n",
            "Kích thước X_test: (612, 60, 60, 3)\n",
            "kich thuoc y_test: (612,)\n"
          ]
        }
      ]
    },
    {
      "cell_type": "code",
      "source": [
        " #one hot enccoding giatri mau tung diem anh tu thap phan duoi dang 10 bit\n",
        "trainY = to_categorical (y_train)\n",
        "testY=to_categorical(y_test)\n",
        "valY=to_categorical(y_val)\n",
        "\n",
        "print(trainY.shape)\n",
        "print(testY.shape)\n",
        "print(valY.shape)\n",
        "trainY[0]"
      ],
      "metadata": {
        "colab": {
          "base_uri": "https://localhost:8080/"
        },
        "id": "aJqWHgVG98xt",
        "outputId": "d622505d-4587-4c87-e298-fd9c57780391"
      },
      "execution_count": 45,
      "outputs": [
        {
          "output_type": "stream",
          "name": "stdout",
          "text": [
            "(4403, 3)\n",
            "(612, 3)\n",
            "(1101, 3)\n"
          ]
        },
        {
          "output_type": "execute_result",
          "data": {
            "text/plain": [
              "array([0., 1., 0.], dtype=float32)"
            ]
          },
          "metadata": {},
          "execution_count": 45
        }
      ]
    },
    {
      "cell_type": "code",
      "source": [
        "batch_size = 32\n",
        "epochs = 20\n",
        "classes = 3\n",
        "img_size = 100 \n",
        "#Tạo 1 mạng có 28x28 input và 10 output\n",
        "model = Sequential()\n",
        "\n",
        "# 1 bộ VGG\n",
        "model.add(Conv2D(32, kernel_size=(4,4), activation = 'tanh', input_shape=(60,60,3),padding = 'same'))\n",
        "model.add(LeakyReLU(alpha=0.1))  # Hàm xử lý dữ liệu (Ngưỡng)\n",
        "model.add(MaxPooling2D((2,2), padding='same'))\n",
        "\n",
        "\n",
        "# Bộ 2 VGG\n",
        "model.add(Conv2D(64,(3,3) , activation = 'tanh' , padding = 'same'))\n",
        "model.add(LeakyReLU(alpha = 0.1)) # Hàm xử lý dữ liệu (Ngưỡng)\n",
        "model.add(MaxPooling2D((2,2), padding = 'same'))\n",
        "\n",
        "# Bộ 3 VGG\n",
        "model.add(Conv2D(128,(3,3) , activation = 'tanh' , padding = 'same'))\n",
        "model.add(LeakyReLU(alpha = 0.1)) # Hàm xử lý dữ liệu (Ngưỡng)\n",
        "model.add(MaxPooling2D((2,2), padding = 'same'))\n",
        "\n",
        "\n",
        "\n",
        "\n",
        "# ANN Model\n",
        "model.add(Flatten()) # Lấy kích thước trước rồi làm phẳng\n",
        "model.add(Dense(128, activation = 'tanh'))\n",
        "model.add(LeakyReLU(alpha = 0.1))\n",
        "model.add(Dense(classes , activation = 'softmax'))     \n",
        "\n",
        "\n",
        "\n",
        "model.compile( loss= categorical_crossentropy , optimizer = Adam() , metrics=['accuracy'])\n",
        "\n",
        "\n",
        "model.summary()"
      ],
      "metadata": {
        "colab": {
          "base_uri": "https://localhost:8080/"
        },
        "id": "CTloNIla-QSj",
        "outputId": "d61963c1-4b93-45dd-a6a4-8e7345751cf6"
      },
      "execution_count": 48,
      "outputs": [
        {
          "output_type": "stream",
          "name": "stdout",
          "text": [
            "Model: \"sequential_6\"\n",
            "_________________________________________________________________\n",
            " Layer (type)                Output Shape              Param #   \n",
            "=================================================================\n",
            " conv2d_18 (Conv2D)          (None, 60, 60, 32)        1568      \n",
            "                                                                 \n",
            " leaky_re_lu_24 (LeakyReLU)  (None, 60, 60, 32)        0         \n",
            "                                                                 \n",
            " max_pooling2d_18 (MaxPoolin  (None, 30, 30, 32)       0         \n",
            " g2D)                                                            \n",
            "                                                                 \n",
            " conv2d_19 (Conv2D)          (None, 30, 30, 64)        18496     \n",
            "                                                                 \n",
            " leaky_re_lu_25 (LeakyReLU)  (None, 30, 30, 64)        0         \n",
            "                                                                 \n",
            " max_pooling2d_19 (MaxPoolin  (None, 15, 15, 64)       0         \n",
            " g2D)                                                            \n",
            "                                                                 \n",
            " conv2d_20 (Conv2D)          (None, 15, 15, 128)       73856     \n",
            "                                                                 \n",
            " leaky_re_lu_26 (LeakyReLU)  (None, 15, 15, 128)       0         \n",
            "                                                                 \n",
            " max_pooling2d_20 (MaxPoolin  (None, 8, 8, 128)        0         \n",
            " g2D)                                                            \n",
            "                                                                 \n",
            " flatten_6 (Flatten)         (None, 8192)              0         \n",
            "                                                                 \n",
            " dense_12 (Dense)            (None, 128)               1048704   \n",
            "                                                                 \n",
            " leaky_re_lu_27 (LeakyReLU)  (None, 128)               0         \n",
            "                                                                 \n",
            " dense_13 (Dense)            (None, 3)                 387       \n",
            "                                                                 \n",
            "=================================================================\n",
            "Total params: 1,143,011\n",
            "Trainable params: 1,143,011\n",
            "Non-trainable params: 0\n",
            "_________________________________________________________________\n"
          ]
        }
      ]
    },
    {
      "cell_type": "code",
      "source": [
        "start = time()\n",
        "train = model.fit(X_train, trainY, batch_size ,epochs=20, verbose = 1, validation_data=(X_val, valY))"
      ],
      "metadata": {
        "colab": {
          "base_uri": "https://localhost:8080/"
        },
        "id": "vnmUNEe3-aIj",
        "outputId": "d313de3f-a707-49ce-9ce6-4fbbfe680359"
      },
      "execution_count": 49,
      "outputs": [
        {
          "output_type": "stream",
          "name": "stdout",
          "text": [
            "Epoch 1/20\n",
            "138/138 [==============================] - 41s 292ms/step - loss: 0.7839 - accuracy: 0.5596 - val_loss: 0.7707 - val_accuracy: 0.6449\n",
            "Epoch 2/20\n",
            "138/138 [==============================] - 39s 283ms/step - loss: 0.6961 - accuracy: 0.6682 - val_loss: 0.7174 - val_accuracy: 0.6549\n",
            "Epoch 3/20\n",
            "138/138 [==============================] - 41s 297ms/step - loss: 0.6061 - accuracy: 0.7254 - val_loss: 0.6590 - val_accuracy: 0.6939\n",
            "Epoch 4/20\n",
            "138/138 [==============================] - 39s 286ms/step - loss: 0.5481 - accuracy: 0.7570 - val_loss: 0.6676 - val_accuracy: 0.6930\n",
            "Epoch 5/20\n",
            "138/138 [==============================] - 40s 290ms/step - loss: 0.4775 - accuracy: 0.7954 - val_loss: 0.6088 - val_accuracy: 0.7348\n",
            "Epoch 6/20\n",
            "138/138 [==============================] - 40s 292ms/step - loss: 0.4007 - accuracy: 0.8340 - val_loss: 0.6086 - val_accuracy: 0.7348\n",
            "Epoch 7/20\n",
            "138/138 [==============================] - 39s 286ms/step - loss: 0.3164 - accuracy: 0.8678 - val_loss: 0.6503 - val_accuracy: 0.7384\n",
            "Epoch 8/20\n",
            "138/138 [==============================] - 40s 292ms/step - loss: 0.2222 - accuracy: 0.9176 - val_loss: 0.6831 - val_accuracy: 0.7430\n",
            "Epoch 9/20\n",
            "138/138 [==============================] - 40s 290ms/step - loss: 0.1350 - accuracy: 0.9571 - val_loss: 0.7404 - val_accuracy: 0.7520\n",
            "Epoch 10/20\n",
            "138/138 [==============================] - 40s 290ms/step - loss: 0.0610 - accuracy: 0.9857 - val_loss: 0.8203 - val_accuracy: 0.7448\n",
            "Epoch 11/20\n",
            "138/138 [==============================] - 40s 287ms/step - loss: 0.0284 - accuracy: 0.9961 - val_loss: 0.8311 - val_accuracy: 0.7502\n",
            "Epoch 12/20\n",
            "138/138 [==============================] - 44s 317ms/step - loss: 0.0111 - accuracy: 0.9993 - val_loss: 0.9220 - val_accuracy: 0.7566\n",
            "Epoch 13/20\n",
            "138/138 [==============================] - 40s 288ms/step - loss: 0.0052 - accuracy: 0.9998 - val_loss: 0.9531 - val_accuracy: 0.7566\n",
            "Epoch 14/20\n",
            "138/138 [==============================] - 39s 286ms/step - loss: 0.0033 - accuracy: 1.0000 - val_loss: 0.9968 - val_accuracy: 0.7593\n",
            "Epoch 15/20\n",
            "138/138 [==============================] - 40s 292ms/step - loss: 0.0025 - accuracy: 1.0000 - val_loss: 1.0248 - val_accuracy: 0.7602\n",
            "Epoch 16/20\n",
            "138/138 [==============================] - 42s 303ms/step - loss: 0.0019 - accuracy: 1.0000 - val_loss: 1.0396 - val_accuracy: 0.7657\n",
            "Epoch 17/20\n",
            "138/138 [==============================] - 42s 304ms/step - loss: 0.0015 - accuracy: 1.0000 - val_loss: 1.0651 - val_accuracy: 0.7657\n",
            "Epoch 18/20\n",
            "138/138 [==============================] - 40s 288ms/step - loss: 0.0012 - accuracy: 1.0000 - val_loss: 1.0874 - val_accuracy: 0.7666\n",
            "Epoch 19/20\n",
            "138/138 [==============================] - 40s 289ms/step - loss: 0.0010 - accuracy: 1.0000 - val_loss: 1.1036 - val_accuracy: 0.7657\n",
            "Epoch 20/20\n",
            "138/138 [==============================] - 42s 305ms/step - loss: 8.8438e-04 - accuracy: 1.0000 - val_loss: 1.1189 - val_accuracy: 0.7639\n"
          ]
        }
      ]
    },
    {
      "cell_type": "code",
      "source": [
        "model.save('/content/drive/MyDrive/database/1model.h5')"
      ],
      "metadata": {
        "id": "EzB63oqhVrs9"
      },
      "execution_count": 54,
      "outputs": []
    },
    {
      "cell_type": "code",
      "source": [
        "# Lấy một hình ảnh từ tập test\n",
        "id = 100\n",
        "image = X_test[id]\n",
        "label = y_test[id]\n",
        "classname= {0:'Dogs', 1:'Cats', 2:'Hamster'} \n",
        "\n",
        "# Đưa hình ảnh về đúng kích thước và định dạng phù hợp\n",
        "image = np.expand_dims(image , axis=0)\n",
        "\n",
        "# Dự đoán nhãn của hình ảnh sử dụng mô hình\n",
        "predictions = model.predict(image)\n",
        "\n",
        "# Chuyển đổi dự đoán thành nhãn tương ứng dựa trên xác suất lớn nhất\n",
        "predicted_label = np.argmax(predictions)\n",
        "\n",
        "# In kết quả dự đoán\n",
        "print('True Label:', classname[label])\n",
        "print('Predicted Label:', classname[predicted_label])\n",
        "plt.imshow(X_test[id])"
      ],
      "metadata": {
        "colab": {
          "base_uri": "https://localhost:8080/",
          "height": 501
        },
        "id": "lEwFbSdt-27K",
        "outputId": "de0bbc86-64a9-4ddb-ed97-05e1ff000723"
      },
      "execution_count": 50,
      "outputs": [
        {
          "output_type": "stream",
          "name": "stdout",
          "text": [
            "1/1 [==============================] - 0s 88ms/step\n",
            "True Label: Dogs\n",
            "Predicted Label: Cats\n"
          ]
        },
        {
          "output_type": "execute_result",
          "data": {
            "text/plain": [
              "<matplotlib.image.AxesImage at 0x7faa107232e0>"
            ]
          },
          "metadata": {},
          "execution_count": 50
        },
        {
          "output_type": "display_data",
          "data": {
            "text/plain": [
              "<Figure size 640x480 with 1 Axes>"
            ],
            "image/png": "[encoded data removed]"
          },
          "metadata": {}
        }
      ]
    },
    {
      "cell_type": "code",
      "source": [
        "import random\n",
        "correct_predictions = 0\n",
        "total_predictions = 0\n",
        "\n",
        "for i in range(0,100):\n",
        "  img = X_test[i]\n",
        "  # Đưa hình ảnh về đúng kích thước và định dạng phù hợp\n",
        "  image = np.expand_dims(img , axis=0)  \n",
        "  \n",
        "  # Dự đoán nhãn của hình ảnh sử dụng mô hình\n",
        "  predictions = model.predict(image)\n",
        "  # Chuyển đổi dự đoán thành nhãn tương ứng dựa trên xác suất cao nhất\n",
        "  predicted_label = np.argmax(predictions)\n",
        "\n",
        "  # Kiểm tra xem dự đoán có đúng hay không\n",
        "  truelabel = y_test[i]\n",
        "  if predicted_label == truelabel:\n",
        "    correct_predictions += 1\n",
        "\n",
        "accuracy = (correct_predictions/100)*100\n",
        "print(\"Accuracy:\", accuracy , \"%\")\n"
      ],
      "metadata": {
        "colab": {
          "base_uri": "https://localhost:8080/"
        },
        "id": "t-_hEEG4_sN3",
        "outputId": "030fd8fe-a24c-44f2-b356-66f05473516e"
      },
      "execution_count": 51,
      "outputs": [
        {
          "output_type": "stream",
          "name": "stdout",
          "text": [
            "1/1 [==============================] - 0s 35ms/step\n",
            "1/1 [==============================] - 0s 31ms/step\n",
            "1/1 [==============================] - 0s 33ms/step\n",
            "1/1 [==============================] - 0s 32ms/step\n",
            "1/1 [==============================] - 0s 31ms/step\n",
            "1/1 [==============================] - 0s 33ms/step\n",
            "1/1 [==============================] - 0s 33ms/step\n",
            "1/1 [==============================] - 0s 31ms/step\n",
            "1/1 [==============================] - 0s 31ms/step\n",
            "1/1 [==============================] - 0s 32ms/step\n",
            "1/1 [==============================] - 0s 42ms/step\n",
            "1/1 [==============================] - 0s 31ms/step\n",
            "1/1 [==============================] - 0s 34ms/step\n",
            "1/1 [==============================] - 0s 38ms/step\n",
            "1/1 [==============================] - 0s 39ms/step\n",
            "1/1 [==============================] - 0s 47ms/step\n",
            "1/1 [==============================] - 0s 31ms/step\n",
            "1/1 [==============================] - 0s 31ms/step\n",
            "1/1 [==============================] - 0s 33ms/step\n",
            "1/1 [==============================] - 0s 33ms/step\n",
            "1/1 [==============================] - 0s 47ms/step\n",
            "1/1 [==============================] - 0s 34ms/step\n",
            "1/1 [==============================] - 0s 48ms/step\n",
            "1/1 [==============================] - 0s 32ms/step\n",
            "1/1 [==============================] - 0s 40ms/step\n",
            "1/1 [==============================] - 0s 35ms/step\n",
            "1/1 [==============================] - 0s 25ms/step\n",
            "1/1 [==============================] - 0s 25ms/step\n",
            "1/1 [==============================] - 0s 26ms/step\n",
            "1/1 [==============================] - 0s 28ms/step\n",
            "1/1 [==============================] - 0s 31ms/step\n",
            "1/1 [==============================] - 0s 26ms/step\n",
            "1/1 [==============================] - 0s 25ms/step\n",
            "1/1 [==============================] - 0s 26ms/step\n",
            "1/1 [==============================] - 0s 32ms/step\n",
            "1/1 [==============================] - 0s 27ms/step\n",
            "1/1 [==============================] - 0s 26ms/step\n",
            "1/1 [==============================] - 0s 27ms/step\n",
            "1/1 [==============================] - 0s 26ms/step\n",
            "1/1 [==============================] - 0s 25ms/step\n",
            "1/1 [==============================] - 0s 26ms/step\n",
            "1/1 [==============================] - 0s 25ms/step\n",
            "1/1 [==============================] - 0s 26ms/step\n",
            "1/1 [==============================] - 0s 26ms/step\n",
            "1/1 [==============================] - 0s 23ms/step\n",
            "1/1 [==============================] - 0s 29ms/step\n",
            "1/1 [==============================] - 0s 28ms/step\n",
            "1/1 [==============================] - 0s 27ms/step\n",
            "1/1 [==============================] - 0s 28ms/step\n",
            "1/1 [==============================] - 0s 23ms/step\n",
            "1/1 [==============================] - 0s 23ms/step\n",
            "1/1 [==============================] - 0s 23ms/step\n",
            "1/1 [==============================] - 0s 23ms/step\n",
            "1/1 [==============================] - 0s 26ms/step\n",
            "1/1 [==============================] - 0s 26ms/step\n",
            "1/1 [==============================] - 0s 26ms/step\n",
            "1/1 [==============================] - 0s 25ms/step\n",
            "1/1 [==============================] - 0s 30ms/step\n",
            "1/1 [==============================] - 0s 25ms/step\n",
            "1/1 [==============================] - 0s 25ms/step\n",
            "1/1 [==============================] - 0s 26ms/step\n",
            "1/1 [==============================] - 0s 25ms/step\n",
            "1/1 [==============================] - 0s 27ms/step\n",
            "1/1 [==============================] - 0s 30ms/step\n",
            "1/1 [==============================] - 0s 30ms/step\n",
            "1/1 [==============================] - 0s 27ms/step\n",
            "1/1 [==============================] - 0s 27ms/step\n",
            "1/1 [==============================] - 0s 28ms/step\n",
            "1/1 [==============================] - 0s 36ms/step\n",
            "1/1 [==============================] - 0s 26ms/step\n",
            "1/1 [==============================] - 0s 34ms/step\n",
            "1/1 [==============================] - 0s 27ms/step\n",
            "1/1 [==============================] - 0s 29ms/step\n",
            "1/1 [==============================] - 0s 25ms/step\n",
            "1/1 [==============================] - 0s 25ms/step\n",
            "1/1 [==============================] - 0s 24ms/step\n",
            "1/1 [==============================] - 0s 23ms/step\n",
            "1/1 [==============================] - 0s 30ms/step\n",
            "1/1 [==============================] - 0s 26ms/step\n",
            "1/1 [==============================] - 0s 27ms/step\n",
            "1/1 [==============================] - 0s 27ms/step\n",
            "1/1 [==============================] - 0s 27ms/step\n",
            "1/1 [==============================] - 0s 29ms/step\n",
            "1/1 [==============================] - 0s 25ms/step\n",
            "1/1 [==============================] - 0s 28ms/step\n",
            "1/1 [==============================] - 0s 27ms/step\n",
            "1/1 [==============================] - 0s 27ms/step\n",
            "1/1 [==============================] - 0s 24ms/step\n",
            "1/1 [==============================] - 0s 25ms/step\n",
            "1/1 [==============================] - 0s 25ms/step\n",
            "1/1 [==============================] - 0s 31ms/step\n",
            "1/1 [==============================] - 0s 25ms/step\n",
            "1/1 [==============================] - 0s 23ms/step\n",
            "1/1 [==============================] - 0s 23ms/step\n",
            "1/1 [==============================] - 0s 23ms/step\n",
            "1/1 [==============================] - 0s 25ms/step\n",
            "1/1 [==============================] - 0s 29ms/step\n",
            "1/1 [==============================] - 0s 24ms/step\n",
            "1/1 [==============================] - 0s 25ms/step\n",
            "1/1 [==============================] - 0s 40ms/step\n",
            "Accuracy: 81.0 %\n"
          ]
        }
      ]
    }
  ]
}